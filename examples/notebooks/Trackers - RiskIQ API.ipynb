{
 "cells": [
  {
   "cell_type": "markdown",
   "id": "6a1b1943-7583-4cec-a9bb-681f3c641dbe",
   "metadata": {},
   "source": [
    "# RiskIQ PassiveTotal Python Library"
   ]
  },
  {
   "cell_type": "markdown",
   "id": "187bbcb6-6f34-4aaf-8315-06fe2243e523",
   "metadata": {},
   "source": [
    "#### *Using the Trackers dataset*"
   ]
  },
  {
   "cell_type": "markdown",
   "id": "2b510e74-3f72-459b-a76e-9b766a634d32",
   "metadata": {},
   "source": [
    "## Getting Started"
   ]
  },
  {
   "cell_type": "markdown",
   "id": "ed627cbe-b09a-4be0-9d18-248d2e5041b2",
   "metadata": {},
   "source": [
    "This notebook leverages the RiskIQ Illuminate / PassiveTotal API through the `passivetotal` Python library. \n",
    "\n",
    "Documentation for the library, including how to install it and configure API keys, are available here:\n",
    "https://passivetotal.readthedocs.io/en/latest/getting-started.html\n",
    "\n",
    "You will need API credentials to authenticate with the API server that provide access to the datasets queried in this notebook. Ask your RiskIQ contact for details or visit https://info.riskiq.net/ to contact the support team."
   ]
  },
  {
   "cell_type": "markdown",
   "id": "0862222b-c3a8-4043-a8b5-b6c5faf9ec21",
   "metadata": {},
   "source": [
    "### Optional Dependencies\n",
    "\n",
    "This notebook uses the `pandas` Python library primarily to improve the visual output of data tables retrieved from the API. You will need to install that library in your Python (virtual) environment (`pip install pandas`) or change the code examples to return a Python dictionary instead of a dataframe. Simply change `.as_df` to `.as_dict`.\n",
    "\n",
    "Note that some examples may use special features in `pandas` to filter or aggregate data, but these can also be implemented in pure Python."
   ]
  },
  {
   "cell_type": "markdown",
   "id": "e70d32e2-cf64-4778-9f07-280df917a08a",
   "metadata": {},
   "source": [
    "### Product Context"
   ]
  },
  {
   "cell_type": "markdown",
   "id": "cc658593-1cb7-4793-a53b-f75a8811846e",
   "metadata": {},
   "source": [
    "[Trackers](https://info.riskiq.net/hc/en-us/articles/360057824494-PassiveTotal-Datasets-Trackers)\n",
    "are unique codes or values found within web pages and often are used to track user interaction. These codes can be used to correlate a disparate group of websites to a central entity.\n"
   ]
  },
  {
   "cell_type": "markdown",
   "id": "b172fa02-0357-49fe-982e-6ac441d8e618",
   "metadata": {},
   "source": [
    "### Setup Notebook\n",
    "*If this returns errors, ensure you have followed the Getting Started document linked above to install necessary dependencies and configure your API keys.*"
   ]
  },
  {
   "cell_type": "code",
   "execution_count": 1,
   "id": "ee5c394f-7c6a-4aee-b377-f6ee5c8ab72a",
   "metadata": {},
   "outputs": [],
   "source": [
    "from passivetotal import analyzer\n",
    "analyzer.init()"
   ]
  },
  {
   "cell_type": "markdown",
   "id": "921d748c-2b7e-4f33-8617-0e08fb3f2d51",
   "metadata": {},
   "source": [
    "### Table of Contents\n",
    "\n",
    "* [Tracker History](#Tracker-History): Start with a hostname and get a history of trackers observed on that host.\n",
    "* [Tracker Observations](#Tracker-Observations): Start with a tracker type and value to discover other sites where it has been observed.\n",
    "* [Reference Trackers](#Reference-Trackers): Query a derived dataset starting with a host to find other hosts where a site's content has been copied and re-published."
   ]
  },
  {
   "cell_type": "markdown",
   "id": "524d5fd0-bb21-4452-a1d2-dbd5671b3604",
   "metadata": {},
   "source": [
    "---\n",
    "## Tracker History"
   ]
  },
  {
   "cell_type": "markdown",
   "id": "ca6dfae8-540f-420a-809b-cde6b3a4ed78",
   "metadata": {},
   "source": [
    "#### Hostname and IP Tracker History\n",
    "RiskIQ gathers details on trackers during regular web crawls. The specific meaning of a tracker varies based on the \"tracker type\" assigned by RiskIQ analysts, but generally, one would expect a tracker value to uniquely identify a given site or organization. \n",
    "\n",
    "For example, a site admin may use a website monitoring product called New Relic to track the performance of their site. They will embedded Javascript code in their webpage that includes a uniquely-assigned identifier. RiskIQ crawlers will see and index that identifier as a tracker of type \"NewRelicID\" and associate the observation with the site where it was observed.\n",
    "\n",
    "Here, we consider the trackers observed on www.irs.gov."
   ]
  },
  {
   "cell_type": "code",
   "execution_count": 3,
   "id": "ff7dacca-f3ce-4efb-8d48-171cfb79c500",
   "metadata": {},
   "outputs": [],
   "source": [
    "analyzer.set_date_range(days_back=30)"
   ]
  },
  {
   "cell_type": "code",
   "execution_count": 4,
   "id": "f2863867-1b75-477a-83b9-2ef2e8706000",
   "metadata": {},
   "outputs": [
    {
     "data": {
      "text/html": [
       "<div>\n",
       "<style scoped>\n",
       "    .dataframe tbody tr th:only-of-type {\n",
       "        vertical-align: middle;\n",
       "    }\n",
       "\n",
       "    .dataframe tbody tr th {\n",
       "        vertical-align: top;\n",
       "    }\n",
       "\n",
       "    .dataframe thead th {\n",
       "        text-align: right;\n",
       "    }\n",
       "</style>\n",
       "<table border=\"1\" class=\"dataframe\">\n",
       "  <thead>\n",
       "    <tr style=\"text-align: right;\">\n",
       "      <th></th>\n",
       "      <th>query</th>\n",
       "      <th>firstseen</th>\n",
       "      <th>lastseen</th>\n",
       "      <th>trackertype</th>\n",
       "      <th>value</th>\n",
       "      <th>hostname</th>\n",
       "    </tr>\n",
       "  </thead>\n",
       "  <tbody>\n",
       "    <tr>\n",
       "      <th>0</th>\n",
       "      <td>www.irs.gov</td>\n",
       "      <td>2017-08-30 05:34:35</td>\n",
       "      <td>2021-08-16 06:40:52</td>\n",
       "      <td>NewRelicId</td>\n",
       "      <td>b67fc6a152</td>\n",
       "      <td>www.irs.gov</td>\n",
       "    </tr>\n",
       "    <tr>\n",
       "      <th>1</th>\n",
       "      <td>www.irs.gov</td>\n",
       "      <td>2021-06-24 03:38:44</td>\n",
       "      <td>2021-08-15 11:24:47</td>\n",
       "      <td>TwitterShortlinkId</td>\n",
       "      <td>kcmyxuf42s</td>\n",
       "      <td>www.irs.gov</td>\n",
       "    </tr>\n",
       "    <tr>\n",
       "      <th>2</th>\n",
       "      <td>www.irs.gov</td>\n",
       "      <td>2021-06-24 03:38:44</td>\n",
       "      <td>2021-08-15 11:24:47</td>\n",
       "      <td>TwitterShortlinkId</td>\n",
       "      <td>ohcxvvmtsn</td>\n",
       "      <td>www.irs.gov</td>\n",
       "    </tr>\n",
       "    <tr>\n",
       "      <th>3</th>\n",
       "      <td>www.irs.gov</td>\n",
       "      <td>2021-07-23 04:09:09</td>\n",
       "      <td>2021-08-14 11:11:16</td>\n",
       "      <td>TwitterShortlinkId</td>\n",
       "      <td>hkypexoz6u</td>\n",
       "      <td>www.irs.gov</td>\n",
       "    </tr>\n",
       "    <tr>\n",
       "      <th>4</th>\n",
       "      <td>www.irs.gov</td>\n",
       "      <td>2021-07-23 04:09:09</td>\n",
       "      <td>2021-08-14 11:11:16</td>\n",
       "      <td>TwitterShortlinkId</td>\n",
       "      <td>ofswyypoai</td>\n",
       "      <td>www.irs.gov</td>\n",
       "    </tr>\n",
       "    <tr>\n",
       "      <th>5</th>\n",
       "      <td>www.irs.gov</td>\n",
       "      <td>2021-07-07 10:20:23</td>\n",
       "      <td>2021-07-22 12:43:57</td>\n",
       "      <td>TwitterShortlinkId</td>\n",
       "      <td>2cg1hmmb91</td>\n",
       "      <td>www.irs.gov</td>\n",
       "    </tr>\n",
       "  </tbody>\n",
       "</table>\n",
       "</div>"
      ],
      "text/plain": [
       "         query           firstseen            lastseen         trackertype  \\\n",
       "0  www.irs.gov 2017-08-30 05:34:35 2021-08-16 06:40:52          NewRelicId   \n",
       "1  www.irs.gov 2021-06-24 03:38:44 2021-08-15 11:24:47  TwitterShortlinkId   \n",
       "2  www.irs.gov 2021-06-24 03:38:44 2021-08-15 11:24:47  TwitterShortlinkId   \n",
       "3  www.irs.gov 2021-07-23 04:09:09 2021-08-14 11:11:16  TwitterShortlinkId   \n",
       "4  www.irs.gov 2021-07-23 04:09:09 2021-08-14 11:11:16  TwitterShortlinkId   \n",
       "5  www.irs.gov 2021-07-07 10:20:23 2021-07-22 12:43:57  TwitterShortlinkId   \n",
       "\n",
       "        value     hostname  \n",
       "0  b67fc6a152  www.irs.gov  \n",
       "1  kcmyxuf42s  www.irs.gov  \n",
       "2  ohcxvvmtsn  www.irs.gov  \n",
       "3  hkypexoz6u  www.irs.gov  \n",
       "4  ofswyypoai  www.irs.gov  \n",
       "5  2cg1hmmb91  www.irs.gov  "
      ]
     },
     "execution_count": 4,
     "metadata": {},
     "output_type": "execute_result"
    }
   ],
   "source": [
    "analyzer.Hostname('www.irs.gov').trackers.as_df"
   ]
  },
  {
   "cell_type": "markdown",
   "id": "24cb73f5-c64b-4498-96a3-8d95b8a418f2",
   "metadata": {},
   "source": [
    "> NOTE: If you change the `days_back` value above and re-run the query, you won't get new a different set of results. This is due to caching in the `analyzer.Hostname` objects. You can restart the notebook kernel, or run `analyzer.Hostname('www.irs.gov').reset('trackers')` to clear the cache."
   ]
  },
  {
   "cell_type": "markdown",
   "id": "4741e3fb-6865-4ab0-a623-a64c579e547c",
   "metadata": {},
   "source": [
    "---\n",
    "The `trackers` property of the `analyzer.Hostname` object returns an object of type `TrackerHistory` that behaves like a normal Python list, but also offers additional features through various properties. See the [reference docs](https://passivetotal.readthedocs.io/en/latest/analyzer.html?highlight=trackers#passivetotal.analyzer.trackers.TrackerHistory) for a complete list. "
   ]
  },
  {
   "cell_type": "code",
   "execution_count": 8,
   "id": "f9f59338-7f19-4f36-8717-0e203b9df594",
   "metadata": {},
   "outputs": [
    {
     "name": "stdout",
     "output_type": "stream",
     "text": [
      "[NewRelicId] \"b67fc6a152\" (2017-08-30 to 2021-08-16)\n",
      "[TwitterShortlinkId] \"kcmyxuf42s\" (2021-06-24 to 2021-08-15)\n",
      "[TwitterShortlinkId] \"ohcxvvmtsn\" (2021-06-24 to 2021-08-15)\n",
      "[TwitterShortlinkId] \"hkypexoz6u\" (2021-07-23 to 2021-08-14)\n",
      "[TwitterShortlinkId] \"ofswyypoai\" (2021-07-23 to 2021-08-14)\n",
      "[TwitterShortlinkId] \"2cg1hmmb91\" (2021-07-07 to 2021-07-22)\n"
     ]
    }
   ],
   "source": [
    "for tracker in analyzer.Hostname('www.irs.gov').trackers:\n",
    "    print(tracker)"
   ]
  },
  {
   "cell_type": "markdown",
   "id": "71ac98d8-9913-4415-bed1-aeb52a4639aa",
   "metadata": {},
   "source": [
    "Like most `analyzer` objects, each entry in a list of trackers can be treated like a string for easy display, but they also contain a set of properties and attributes for direct access to the data. These properties are explained in the [reference docs](https://passivetotal.readthedocs.io/en/latest/analyzer.html?highlight=trackers#passivetotal.analyzer.trackers.TrackerRecord) for `TrackerRecord` objects. "
   ]
  },
  {
   "cell_type": "code",
   "execution_count": 9,
   "id": "3aa00a41-7642-456b-8e03-4ef86f11a898",
   "metadata": {},
   "outputs": [
    {
     "data": {
      "text/plain": [
       "'b67fc6a152'"
      ]
     },
     "execution_count": 9,
     "metadata": {},
     "output_type": "execute_result"
    }
   ],
   "source": [
    "analyzer.Hostname('www.irs.gov').trackers.filter(category='NewRelicId')[0].value"
   ]
  },
  {
   "cell_type": "markdown",
   "id": "15fd7858-bf57-43e5-829e-c1603bec5cf4",
   "metadata": {},
   "source": [
    "> The `trackers` property is also available for [IP addresses](https://passivetotal.readthedocs.io/en/latest/analyzer.html?highlight=trackers#ip-analysis), with similar functionalty, though in most cases we recommend starting with a fully-qualified domain name for best results."
   ]
  },
  {
   "cell_type": "markdown",
   "id": "c4ab6c9c-a6c1-48c0-bc99-6ca78c1dbf73",
   "metadata": {},
   "source": [
    "---\n",
    "## Tracker Observations"
   ]
  },
  {
   "cell_type": "markdown",
   "id": "204e8e5e-5877-407b-b6a0-67e21366ef7d",
   "metadata": {},
   "source": [
    "Trackers can be an effective way of discovering other internet sites controlled by legitimate entities, but it can also be used for threat investigations and phishing site detection.\n",
    "\n",
    "When malicious actors copy website content with the intent to setup a phishing site, they often use automated tools that copy the entire HTML of the web page, including the Javascript and link parameters that setup trackers. In those cases, shared tracker values can be used to detect these copycat sites. \n",
    "\n",
    "The `analyzer` offers a top-level `Tracker` object you can use to search for all observations of a specific tracker type and value across hosts or IP addresses. "
   ]
  },
  {
   "cell_type": "code",
   "execution_count": 13,
   "id": "6ffc6177-7d5a-4e66-8528-dc78abba09a5",
   "metadata": {},
   "outputs": [
    {
     "data": {
      "text/html": [
       "<div>\n",
       "<style scoped>\n",
       "    .dataframe tbody tr th:only-of-type {\n",
       "        vertical-align: middle;\n",
       "    }\n",
       "\n",
       "    .dataframe tbody tr th {\n",
       "        vertical-align: top;\n",
       "    }\n",
       "\n",
       "    .dataframe thead th {\n",
       "        text-align: right;\n",
       "    }\n",
       "</style>\n",
       "<table border=\"1\" class=\"dataframe\">\n",
       "  <thead>\n",
       "    <tr style=\"text-align: right;\">\n",
       "      <th></th>\n",
       "      <th>query</th>\n",
       "      <th>host</th>\n",
       "      <th>trackertype</th>\n",
       "      <th>firstseen</th>\n",
       "      <th>lastseen</th>\n",
       "      <th>searchtype</th>\n",
       "    </tr>\n",
       "  </thead>\n",
       "  <tbody>\n",
       "    <tr>\n",
       "      <th>0</th>\n",
       "      <td>b67fc6a152</td>\n",
       "      <td>www.irsbgov.com</td>\n",
       "      <td>NewRelicId</td>\n",
       "      <td>2021-01-26 13:27:53</td>\n",
       "      <td>2021-01-26 18:12:09</td>\n",
       "      <td>hosts</td>\n",
       "    </tr>\n",
       "    <tr>\n",
       "      <th>1</th>\n",
       "      <td>b67fc6a152</td>\n",
       "      <td>www.irsqgov.com</td>\n",
       "      <td>NewRelicId</td>\n",
       "      <td>2021-01-23 15:31:21</td>\n",
       "      <td>2021-01-23 20:33:15</td>\n",
       "      <td>hosts</td>\n",
       "    </tr>\n",
       "    <tr>\n",
       "      <th>2</th>\n",
       "      <td>b67fc6a152</td>\n",
       "      <td>m2htc.com</td>\n",
       "      <td>NewRelicId</td>\n",
       "      <td>2021-06-14 08:03:57</td>\n",
       "      <td>2021-06-14 08:03:57</td>\n",
       "      <td>hosts</td>\n",
       "    </tr>\n",
       "    <tr>\n",
       "      <th>3</th>\n",
       "      <td>b67fc6a152</td>\n",
       "      <td>sa-www4-irs-gov.movementsinmotion.com</td>\n",
       "      <td>NewRelicId</td>\n",
       "      <td>2021-07-10 00:46:21</td>\n",
       "      <td>2021-07-10 07:45:48</td>\n",
       "      <td>hosts</td>\n",
       "    </tr>\n",
       "    <tr>\n",
       "      <th>4</th>\n",
       "      <td>b67fc6a152</td>\n",
       "      <td>rb3sports.com</td>\n",
       "      <td>NewRelicId</td>\n",
       "      <td>2021-06-22 03:14:12</td>\n",
       "      <td>2021-06-22 03:14:12</td>\n",
       "      <td>hosts</td>\n",
       "    </tr>\n",
       "    <tr>\n",
       "      <th>...</th>\n",
       "      <td>...</td>\n",
       "      <td>...</td>\n",
       "      <td>...</td>\n",
       "      <td>...</td>\n",
       "      <td>...</td>\n",
       "      <td>...</td>\n",
       "    </tr>\n",
       "    <tr>\n",
       "      <th>135</th>\n",
       "      <td>b67fc6a152</td>\n",
       "      <td>dezurahomes.com</td>\n",
       "      <td>NewRelicId</td>\n",
       "      <td>2021-06-23 22:59:43</td>\n",
       "      <td>2021-06-23 22:59:43</td>\n",
       "      <td>hosts</td>\n",
       "    </tr>\n",
       "    <tr>\n",
       "      <th>136</th>\n",
       "      <td>b67fc6a152</td>\n",
       "      <td>1rs-gov.org</td>\n",
       "      <td>NewRelicId</td>\n",
       "      <td>2021-06-07 13:28:32</td>\n",
       "      <td>2021-06-11 18:31:34</td>\n",
       "      <td>hosts</td>\n",
       "    </tr>\n",
       "    <tr>\n",
       "      <th>137</th>\n",
       "      <td>b67fc6a152</td>\n",
       "      <td>xaayvi.icu</td>\n",
       "      <td>NewRelicId</td>\n",
       "      <td>2020-06-23 17:58:39</td>\n",
       "      <td>2020-06-23 17:58:39</td>\n",
       "      <td>hosts</td>\n",
       "    </tr>\n",
       "    <tr>\n",
       "      <th>138</th>\n",
       "      <td>b67fc6a152</td>\n",
       "      <td>arteservices.com</td>\n",
       "      <td>NewRelicId</td>\n",
       "      <td>2021-06-22 22:13:57</td>\n",
       "      <td>2021-06-22 22:13:57</td>\n",
       "      <td>hosts</td>\n",
       "    </tr>\n",
       "    <tr>\n",
       "      <th>139</th>\n",
       "      <td>b67fc6a152</td>\n",
       "      <td>payment.irs.benefit.marypoesia.com</td>\n",
       "      <td>NewRelicId</td>\n",
       "      <td>2021-07-19 09:39:13</td>\n",
       "      <td>2021-08-16 06:14:28</td>\n",
       "      <td>hosts</td>\n",
       "    </tr>\n",
       "  </tbody>\n",
       "</table>\n",
       "<p>140 rows × 6 columns</p>\n",
       "</div>"
      ],
      "text/plain": [
       "          query                                   host trackertype  \\\n",
       "0    b67fc6a152                        www.irsbgov.com  NewRelicId   \n",
       "1    b67fc6a152                        www.irsqgov.com  NewRelicId   \n",
       "2    b67fc6a152                              m2htc.com  NewRelicId   \n",
       "3    b67fc6a152  sa-www4-irs-gov.movementsinmotion.com  NewRelicId   \n",
       "4    b67fc6a152                          rb3sports.com  NewRelicId   \n",
       "..          ...                                    ...         ...   \n",
       "135  b67fc6a152                        dezurahomes.com  NewRelicId   \n",
       "136  b67fc6a152                            1rs-gov.org  NewRelicId   \n",
       "137  b67fc6a152                             xaayvi.icu  NewRelicId   \n",
       "138  b67fc6a152                       arteservices.com  NewRelicId   \n",
       "139  b67fc6a152     payment.irs.benefit.marypoesia.com  NewRelicId   \n",
       "\n",
       "              firstseen            lastseen searchtype  \n",
       "0   2021-01-26 13:27:53 2021-01-26 18:12:09      hosts  \n",
       "1   2021-01-23 15:31:21 2021-01-23 20:33:15      hosts  \n",
       "2   2021-06-14 08:03:57 2021-06-14 08:03:57      hosts  \n",
       "3   2021-07-10 00:46:21 2021-07-10 07:45:48      hosts  \n",
       "4   2021-06-22 03:14:12 2021-06-22 03:14:12      hosts  \n",
       "..                  ...                 ...        ...  \n",
       "135 2021-06-23 22:59:43 2021-06-23 22:59:43      hosts  \n",
       "136 2021-06-07 13:28:32 2021-06-11 18:31:34      hosts  \n",
       "137 2020-06-23 17:58:39 2020-06-23 17:58:39      hosts  \n",
       "138 2021-06-22 22:13:57 2021-06-22 22:13:57      hosts  \n",
       "139 2021-07-19 09:39:13 2021-08-16 06:14:28      hosts  \n",
       "\n",
       "[140 rows x 6 columns]"
      ]
     },
     "execution_count": 13,
     "metadata": {},
     "output_type": "execute_result"
    }
   ],
   "source": [
    "analyzer.Tracker('NewRelicId','b67fc6a152').observations_by_hostname.as_df"
   ]
  },
  {
   "cell_type": "markdown",
   "id": "ca07e43a-95b8-412d-bc3a-12fdd57eacd3",
   "metadata": {},
   "source": [
    "The `analyzer.Tracker` object provides two properties to aid discovery of related sites: `observations_by_hostname` and `observations_by_ip`. Both return a list of observations as a `TrackerSearchResults` object that offers many of the same capabilities as a `TrackerHistory` object. \n",
    "\n",
    "You can instantiate a `analyzer.Tracker` object directly as shown above, or obtain an instance from the `tracker` property of a record returned in the `TrackerHistory` of a hostname or IP address."
   ]
  },
  {
   "cell_type": "code",
   "execution_count": 18,
   "id": "7f9e048d-29ab-4b3a-8a6a-5ef5247c1306",
   "metadata": {},
   "outputs": [
    {
     "data": {
      "text/plain": [
       "<Tracker NewRelicId:b67fc6a152>"
      ]
     },
     "execution_count": 18,
     "metadata": {},
     "output_type": "execute_result"
    }
   ],
   "source": [
    "analyzer.Hostname('www.irs.gov').trackers.filter(category='NewRelicId')[0].tracker"
   ]
  },
  {
   "cell_type": "code",
   "execution_count": 20,
   "id": "7d2799ce-ee68-4a4d-a1d3-4c17dc9c99b2",
   "metadata": {},
   "outputs": [
    {
     "data": {
      "text/plain": [
       "140"
      ]
     },
     "execution_count": 20,
     "metadata": {},
     "output_type": "execute_result"
    }
   ],
   "source": [
    "(\n",
    "    analyzer.Hostname('www.irs.gov')\n",
    "    .trackers\n",
    "    .filter(category='NewRelicId')[0]\n",
    "    .tracker\n",
    "    .observations_by_hostname\n",
    "    .totalrecords\n",
    ")"
   ]
  },
  {
   "cell_type": "markdown",
   "id": "c1a2abf4-16db-46d9-bedd-fcaa929db058",
   "metadata": {},
   "source": [
    "> This syntax can be a bit strange when you first encounter it. Python style guides generally discourage long lines of code, but when they are unavoidable or justified, the syntax permits enclosing blocks in parentheses.  "
   ]
  },
  {
   "cell_type": "markdown",
   "id": "848c7ab3-9288-42d5-9edc-6d6840bc809e",
   "metadata": {},
   "source": [
    "These observations show other sites where RiskIQ has observed the same value for the NewRelicId tracker that the IRS has configured on their site. If these observations are subdomains of the 'irs.gov' domain they are likely benign, but if not, they are suspicious and worth further research.\n",
    "\n",
    "We can leverage features of the `analyzer` module and these specific tracker objects to focus on those suspicious sites."
   ]
  },
  {
   "cell_type": "code",
   "execution_count": 2,
   "id": "231000e7-6cd3-44d4-be7d-dba310c9f6b6",
   "metadata": {
    "tags": []
   },
   "outputs": [
    {
     "data": {
      "text/html": [
       "<div>\n",
       "<style scoped>\n",
       "    .dataframe tbody tr th:only-of-type {\n",
       "        vertical-align: middle;\n",
       "    }\n",
       "\n",
       "    .dataframe tbody tr th {\n",
       "        vertical-align: top;\n",
       "    }\n",
       "\n",
       "    .dataframe thead th {\n",
       "        text-align: right;\n",
       "    }\n",
       "</style>\n",
       "<table border=\"1\" class=\"dataframe\">\n",
       "  <thead>\n",
       "    <tr style=\"text-align: right;\">\n",
       "      <th></th>\n",
       "      <th>query</th>\n",
       "      <th>host</th>\n",
       "      <th>trackertype</th>\n",
       "      <th>firstseen</th>\n",
       "      <th>lastseen</th>\n",
       "      <th>searchtype</th>\n",
       "    </tr>\n",
       "  </thead>\n",
       "  <tbody>\n",
       "    <tr>\n",
       "      <th>0</th>\n",
       "      <td>b67fc6a152</td>\n",
       "      <td>www.irsbgov.com</td>\n",
       "      <td>NewRelicId</td>\n",
       "      <td>2021-01-26 13:27:53</td>\n",
       "      <td>2021-01-26 18:12:09</td>\n",
       "      <td>hosts</td>\n",
       "    </tr>\n",
       "    <tr>\n",
       "      <th>1</th>\n",
       "      <td>b67fc6a152</td>\n",
       "      <td>www.irsqgov.com</td>\n",
       "      <td>NewRelicId</td>\n",
       "      <td>2021-01-23 15:31:21</td>\n",
       "      <td>2021-01-23 20:33:15</td>\n",
       "      <td>hosts</td>\n",
       "    </tr>\n",
       "    <tr>\n",
       "      <th>2</th>\n",
       "      <td>b67fc6a152</td>\n",
       "      <td>m2htc.com</td>\n",
       "      <td>NewRelicId</td>\n",
       "      <td>2021-06-14 08:03:57</td>\n",
       "      <td>2021-06-14 08:03:57</td>\n",
       "      <td>hosts</td>\n",
       "    </tr>\n",
       "    <tr>\n",
       "      <th>3</th>\n",
       "      <td>b67fc6a152</td>\n",
       "      <td>sa-www4-irs-gov.movementsinmotion.com</td>\n",
       "      <td>NewRelicId</td>\n",
       "      <td>2021-07-10 00:46:21</td>\n",
       "      <td>2021-07-10 07:45:48</td>\n",
       "      <td>hosts</td>\n",
       "    </tr>\n",
       "    <tr>\n",
       "      <th>4</th>\n",
       "      <td>b67fc6a152</td>\n",
       "      <td>rb3sports.com</td>\n",
       "      <td>NewRelicId</td>\n",
       "      <td>2021-06-22 03:14:12</td>\n",
       "      <td>2021-06-22 03:14:12</td>\n",
       "      <td>hosts</td>\n",
       "    </tr>\n",
       "    <tr>\n",
       "      <th>...</th>\n",
       "      <td>...</td>\n",
       "      <td>...</td>\n",
       "      <td>...</td>\n",
       "      <td>...</td>\n",
       "      <td>...</td>\n",
       "      <td>...</td>\n",
       "    </tr>\n",
       "    <tr>\n",
       "      <th>124</th>\n",
       "      <td>b67fc6a152</td>\n",
       "      <td>dezurahomes.com</td>\n",
       "      <td>NewRelicId</td>\n",
       "      <td>2021-06-23 22:59:43</td>\n",
       "      <td>2021-06-23 22:59:43</td>\n",
       "      <td>hosts</td>\n",
       "    </tr>\n",
       "    <tr>\n",
       "      <th>125</th>\n",
       "      <td>b67fc6a152</td>\n",
       "      <td>1rs-gov.org</td>\n",
       "      <td>NewRelicId</td>\n",
       "      <td>2021-06-07 13:28:32</td>\n",
       "      <td>2021-06-11 18:31:34</td>\n",
       "      <td>hosts</td>\n",
       "    </tr>\n",
       "    <tr>\n",
       "      <th>126</th>\n",
       "      <td>b67fc6a152</td>\n",
       "      <td>xaayvi.icu</td>\n",
       "      <td>NewRelicId</td>\n",
       "      <td>2020-06-23 17:58:39</td>\n",
       "      <td>2020-06-23 17:58:39</td>\n",
       "      <td>hosts</td>\n",
       "    </tr>\n",
       "    <tr>\n",
       "      <th>127</th>\n",
       "      <td>b67fc6a152</td>\n",
       "      <td>arteservices.com</td>\n",
       "      <td>NewRelicId</td>\n",
       "      <td>2021-06-22 22:13:57</td>\n",
       "      <td>2021-06-22 22:13:57</td>\n",
       "      <td>hosts</td>\n",
       "    </tr>\n",
       "    <tr>\n",
       "      <th>128</th>\n",
       "      <td>b67fc6a152</td>\n",
       "      <td>payment.irs.benefit.marypoesia.com</td>\n",
       "      <td>NewRelicId</td>\n",
       "      <td>2021-07-19 09:39:13</td>\n",
       "      <td>2021-08-18 03:13:16</td>\n",
       "      <td>hosts</td>\n",
       "    </tr>\n",
       "  </tbody>\n",
       "</table>\n",
       "<p>129 rows × 6 columns</p>\n",
       "</div>"
      ],
      "text/plain": [
       "          query                                   host trackertype  \\\n",
       "0    b67fc6a152                        www.irsbgov.com  NewRelicId   \n",
       "1    b67fc6a152                        www.irsqgov.com  NewRelicId   \n",
       "2    b67fc6a152                              m2htc.com  NewRelicId   \n",
       "3    b67fc6a152  sa-www4-irs-gov.movementsinmotion.com  NewRelicId   \n",
       "4    b67fc6a152                          rb3sports.com  NewRelicId   \n",
       "..          ...                                    ...         ...   \n",
       "124  b67fc6a152                        dezurahomes.com  NewRelicId   \n",
       "125  b67fc6a152                            1rs-gov.org  NewRelicId   \n",
       "126  b67fc6a152                             xaayvi.icu  NewRelicId   \n",
       "127  b67fc6a152                       arteservices.com  NewRelicId   \n",
       "128  b67fc6a152     payment.irs.benefit.marypoesia.com  NewRelicId   \n",
       "\n",
       "              firstseen            lastseen searchtype  \n",
       "0   2021-01-26 13:27:53 2021-01-26 18:12:09      hosts  \n",
       "1   2021-01-23 15:31:21 2021-01-23 20:33:15      hosts  \n",
       "2   2021-06-14 08:03:57 2021-06-14 08:03:57      hosts  \n",
       "3   2021-07-10 00:46:21 2021-07-10 07:45:48      hosts  \n",
       "4   2021-06-22 03:14:12 2021-06-22 03:14:12      hosts  \n",
       "..                  ...                 ...        ...  \n",
       "124 2021-06-23 22:59:43 2021-06-23 22:59:43      hosts  \n",
       "125 2021-06-07 13:28:32 2021-06-11 18:31:34      hosts  \n",
       "126 2020-06-23 17:58:39 2020-06-23 17:58:39      hosts  \n",
       "127 2021-06-22 22:13:57 2021-06-22 22:13:57      hosts  \n",
       "128 2021-07-19 09:39:13 2021-08-18 03:13:16      hosts  \n",
       "\n",
       "[129 rows x 6 columns]"
      ]
     },
     "execution_count": 2,
     "metadata": {},
     "output_type": "execute_result"
    }
   ],
   "source": [
    "whitelist = ['irs.gov','translate.goog','t.co']\n",
    "suspicious_trackers = (\n",
    "    analyzer.Tracker('NewRelicId','b67fc6a152')\n",
    "    .observations_by_hostname\n",
    "    .exclude_domains_in(whitelist)\n",
    ")\n",
    "suspicious_trackers.as_df"
   ]
  },
  {
   "cell_type": "markdown",
   "id": "f7c30719-7841-40c3-b670-7c6bad6fdbb1",
   "metadata": {},
   "source": [
    "> By default, `pandas` will only show a subset of rows in notebooks. To display more, first `import pandas as pd` and then run `pd.options.display_max_rows=500`."
   ]
  },
  {
   "cell_type": "markdown",
   "id": "4d4d8453-e520-4536-bb09-5ae7aa753470",
   "metadata": {},
   "source": [
    "> `host.registered_domain` works because the `host` attribute of tracker record returns an object of type `analyzer.Hostname`, and those objects offer several properties provided by the `tldextract` Python library, including `tld` and `registered_domain`."
   ]
  },
  {
   "cell_type": "markdown",
   "id": "936281d9-a649-47a6-a49f-032c5bce5e0d",
   "metadata": {},
   "source": [
    "As a further validation, we could examine the age of these domains and the registrant owner using whois data available in the `whois` property of the hostnames."
   ]
  },
  {
   "cell_type": "code",
   "execution_count": 37,
   "id": "a8785681-62fd-40fa-bcec-e9dcb422edd1",
   "metadata": {},
   "outputs": [
    {
     "data": {
      "text/plain": [
       "[{'host': 'payment.irs.benefit.marypoesia.com',\n",
       "  'whois_age': 447,\n",
       "  'whois_org': 'Whois Privacy Protection Foundation'},\n",
       " {'host': 'www8irs-gov.seoorg.ro', 'whois_age': 488, 'whois_org': None},\n",
       " {'host': 'irservice.online',\n",
       "  'whois_age': 14,\n",
       "  'whois_org': 'Privacy Protect, LLC (PrivacyProtect.org)'},\n",
       " {'host': 'swwvv4-irs-gov.seoorg.ro', 'whois_age': 488, 'whois_org': None},\n",
       " {'host': 'www.interrservice.com', 'whois_age': 19, 'whois_org': None}]"
      ]
     },
     "execution_count": 37,
     "metadata": {},
     "output_type": "execute_result"
    }
   ],
   "source": [
    "suspicious_tracker_analysis = []\n",
    "for tracker in suspicious_trackers.sorted_by('lastseen', True)[0:5]:\n",
    "    analysis = { \n",
    "        'host': str(tracker.host),\n",
    "        'whois_age': tracker.host.whois.age,\n",
    "        'whois_org': tracker.host.whois.registrant_org.value\n",
    "    }\n",
    "    suspicious_tracker_analysis.append(analysis)\n",
    "suspicious_tracker_analysis"
   ]
  },
  {
   "cell_type": "markdown",
   "id": "95f46f88-3462-4149-8190-12e6adbd4c60",
   "metadata": {},
   "source": [
    "> The `tracker.host` object will return an `analyzer.Hostname` object. Cast it as a string to get just the text value.\n",
    "\n",
    "> The second parameter of `sorted_by('lastseen', True)` activates a reverse sort, and together with the slice notion `[0:5]` gives us the top 5 `TrackerSearchRecord` objects. "
   ]
  },
  {
   "cell_type": "markdown",
   "id": "032384d0-30f4-4b4e-8167-06ba98a5687d",
   "metadata": {},
   "source": [
    "## Reference Trackers"
   ]
  },
  {
   "cell_type": "markdown",
   "id": "4fc809c1-fc3e-4d39-837b-daa631508f0d",
   "metadata": {},
   "source": [
    "RiskIQ researchers have identified several instances where the value of a tracker provides an indication of where an Internet asset was originally hosted or where an Internet asset’s response body was originally copied from. We have merged these identifiers into our tracker dataset under one of several categories (or types).\n",
    "\n",
    "In the `analyzer` these trackers are available in the `trackers_reference` property of `analyzer.Hostname` and `analyzer.IPAddress` objects.\n",
    "\n",
    "Among other use cases, this enables you to find websites hosting files that were originally downloaded from a given site, often with malicious intent."
   ]
  },
  {
   "cell_type": "code",
   "execution_count": 2,
   "id": "8b42c10b-9df2-4277-9cdd-c6389d435043",
   "metadata": {},
   "outputs": [
    {
     "data": {
      "text/html": [
       "<div>\n",
       "<style scoped>\n",
       "    .dataframe tbody tr th:only-of-type {\n",
       "        vertical-align: middle;\n",
       "    }\n",
       "\n",
       "    .dataframe tbody tr th {\n",
       "        vertical-align: top;\n",
       "    }\n",
       "\n",
       "    .dataframe thead th {\n",
       "        text-align: right;\n",
       "    }\n",
       "</style>\n",
       "<table border=\"1\" class=\"dataframe\">\n",
       "  <thead>\n",
       "    <tr style=\"text-align: right;\">\n",
       "      <th></th>\n",
       "      <th>query</th>\n",
       "      <th>host</th>\n",
       "      <th>trackertype</th>\n",
       "      <th>firstseen</th>\n",
       "      <th>lastseen</th>\n",
       "      <th>searchtype</th>\n",
       "    </tr>\n",
       "  </thead>\n",
       "  <tbody>\n",
       "    <tr>\n",
       "      <th>0</th>\n",
       "      <td>www.irs.gov</td>\n",
       "      <td>142.250.80.65</td>\n",
       "      <td>DocumentBaseHost</td>\n",
       "      <td>2021-07-16 10:22:55</td>\n",
       "      <td>2021-07-27 10:09:18</td>\n",
       "      <td>addresses</td>\n",
       "    </tr>\n",
       "    <tr>\n",
       "      <th>1</th>\n",
       "      <td>www.irs.gov</td>\n",
       "      <td>172.217.1.129</td>\n",
       "      <td>DocumentBaseHost</td>\n",
       "      <td>2021-05-03 20:35:20</td>\n",
       "      <td>2021-05-03 20:35:20</td>\n",
       "      <td>addresses</td>\n",
       "    </tr>\n",
       "    <tr>\n",
       "      <th>2</th>\n",
       "      <td>www.irs.gov</td>\n",
       "      <td>173.194.211.132</td>\n",
       "      <td>DocumentBaseHost</td>\n",
       "      <td>2021-02-22 14:26:13</td>\n",
       "      <td>2021-06-21 22:36:51</td>\n",
       "      <td>addresses</td>\n",
       "    </tr>\n",
       "    <tr>\n",
       "      <th>3</th>\n",
       "      <td>www.irs.gov</td>\n",
       "      <td>172.217.1.97</td>\n",
       "      <td>DocumentBaseHost</td>\n",
       "      <td>2021-05-13 00:00:59</td>\n",
       "      <td>2021-05-13 00:00:59</td>\n",
       "      <td>addresses</td>\n",
       "    </tr>\n",
       "    <tr>\n",
       "      <th>4</th>\n",
       "      <td>www.irs.gov</td>\n",
       "      <td>172.217.165.129</td>\n",
       "      <td>DocumentBaseHost</td>\n",
       "      <td>2021-02-22 11:07:16</td>\n",
       "      <td>2021-02-22 11:07:16</td>\n",
       "      <td>addresses</td>\n",
       "    </tr>\n",
       "    <tr>\n",
       "      <th>...</th>\n",
       "      <td>...</td>\n",
       "      <td>...</td>\n",
       "      <td>...</td>\n",
       "      <td>...</td>\n",
       "      <td>...</td>\n",
       "      <td>...</td>\n",
       "    </tr>\n",
       "    <tr>\n",
       "      <th>117</th>\n",
       "      <td>www.irs.gov</td>\n",
       "      <td>tax50.net</td>\n",
       "      <td>MarkOfTheWebSourceHost</td>\n",
       "      <td>2021-04-06 00:47:06</td>\n",
       "      <td>2021-04-06 00:47:07</td>\n",
       "      <td>hosts</td>\n",
       "    </tr>\n",
       "    <tr>\n",
       "      <th>118</th>\n",
       "      <td>www.irs.gov</td>\n",
       "      <td>severvice0utkook.gq</td>\n",
       "      <td>MarkOfTheWebSourceHost</td>\n",
       "      <td>2019-07-21 03:55:01</td>\n",
       "      <td>2019-07-21 03:55:01</td>\n",
       "      <td>hosts</td>\n",
       "    </tr>\n",
       "    <tr>\n",
       "      <th>119</th>\n",
       "      <td>www.irs.gov</td>\n",
       "      <td>www.tax50.net</td>\n",
       "      <td>MarkOfTheWebSourceHost</td>\n",
       "      <td>2019-04-28 17:38:09</td>\n",
       "      <td>2021-04-06 00:46:18</td>\n",
       "      <td>hosts</td>\n",
       "    </tr>\n",
       "    <tr>\n",
       "      <th>120</th>\n",
       "      <td>www.irs.gov</td>\n",
       "      <td>applygvttaxrdcn.multiversehobbies.com</td>\n",
       "      <td>MarkOfTheWebSourceHost</td>\n",
       "      <td>2018-11-21 12:31:32</td>\n",
       "      <td>2018-11-21 23:45:55</td>\n",
       "      <td>hosts</td>\n",
       "    </tr>\n",
       "    <tr>\n",
       "      <th>121</th>\n",
       "      <td>www.irs.gov</td>\n",
       "      <td>recentchecking.cf</td>\n",
       "      <td>MarkOfTheWebSourceHost</td>\n",
       "      <td>2019-07-08 13:03:57</td>\n",
       "      <td>2019-07-08 16:25:00</td>\n",
       "      <td>hosts</td>\n",
       "    </tr>\n",
       "  </tbody>\n",
       "</table>\n",
       "<p>122 rows × 6 columns</p>\n",
       "</div>"
      ],
      "text/plain": [
       "           query                                   host  \\\n",
       "0    www.irs.gov                          142.250.80.65   \n",
       "1    www.irs.gov                          172.217.1.129   \n",
       "2    www.irs.gov                        173.194.211.132   \n",
       "3    www.irs.gov                           172.217.1.97   \n",
       "4    www.irs.gov                        172.217.165.129   \n",
       "..           ...                                    ...   \n",
       "117  www.irs.gov                              tax50.net   \n",
       "118  www.irs.gov                    severvice0utkook.gq   \n",
       "119  www.irs.gov                          www.tax50.net   \n",
       "120  www.irs.gov  applygvttaxrdcn.multiversehobbies.com   \n",
       "121  www.irs.gov                      recentchecking.cf   \n",
       "\n",
       "                trackertype           firstseen            lastseen searchtype  \n",
       "0          DocumentBaseHost 2021-07-16 10:22:55 2021-07-27 10:09:18  addresses  \n",
       "1          DocumentBaseHost 2021-05-03 20:35:20 2021-05-03 20:35:20  addresses  \n",
       "2          DocumentBaseHost 2021-02-22 14:26:13 2021-06-21 22:36:51  addresses  \n",
       "3          DocumentBaseHost 2021-05-13 00:00:59 2021-05-13 00:00:59  addresses  \n",
       "4          DocumentBaseHost 2021-02-22 11:07:16 2021-02-22 11:07:16  addresses  \n",
       "..                      ...                 ...                 ...        ...  \n",
       "117  MarkOfTheWebSourceHost 2021-04-06 00:47:06 2021-04-06 00:47:07      hosts  \n",
       "118  MarkOfTheWebSourceHost 2019-07-21 03:55:01 2019-07-21 03:55:01      hosts  \n",
       "119  MarkOfTheWebSourceHost 2019-04-28 17:38:09 2021-04-06 00:46:18      hosts  \n",
       "120  MarkOfTheWebSourceHost 2018-11-21 12:31:32 2018-11-21 23:45:55      hosts  \n",
       "121  MarkOfTheWebSourceHost 2019-07-08 13:03:57 2019-07-08 16:25:00      hosts  \n",
       "\n",
       "[122 rows x 6 columns]"
      ]
     },
     "execution_count": 2,
     "metadata": {},
     "output_type": "execute_result"
    }
   ],
   "source": [
    "analyzer.Hostname('www.irs.gov').tracker_references.as_df"
   ]
  },
  {
   "cell_type": "markdown",
   "id": "b802a695-158f-4728-a845-579de3516688",
   "metadata": {},
   "source": [
    "> This property performs multiple API queries to search both IPs and hosts for several types of trackers. If you need to conserve API queries, instantiate an `analyzer.Tracker` object and use the `observations_by_hostname` or `observations_by_ip` properties directly."
   ]
  },
  {
   "cell_type": "markdown",
   "id": "fcdebfea-6311-4c66-9b26-70b3c62a5cb0",
   "metadata": {},
   "source": [
    "Combining features from `pandas` and the `analyzer` module, we can create a custom dataframe with the RiskIQ Illuminate Reputation Score for each domain. "
   ]
  },
  {
   "cell_type": "code",
   "execution_count": 5,
   "id": "993b4203-5e15-47bf-98c3-13c1bdb06758",
   "metadata": {},
   "outputs": [
    {
     "data": {
      "text/html": [
       "<div>\n",
       "<style scoped>\n",
       "    .dataframe tbody tr th:only-of-type {\n",
       "        vertical-align: middle;\n",
       "    }\n",
       "\n",
       "    .dataframe tbody tr th {\n",
       "        vertical-align: top;\n",
       "    }\n",
       "\n",
       "    .dataframe thead th {\n",
       "        text-align: right;\n",
       "    }\n",
       "</style>\n",
       "<table border=\"1\" class=\"dataframe\">\n",
       "  <thead>\n",
       "    <tr style=\"text-align: right;\">\n",
       "      <th></th>\n",
       "      <th>host</th>\n",
       "      <th>trackertype</th>\n",
       "      <th>firstseen</th>\n",
       "      <th>lastseen</th>\n",
       "      <th>reputation_score</th>\n",
       "    </tr>\n",
       "  </thead>\n",
       "  <tbody>\n",
       "    <tr>\n",
       "      <th>10</th>\n",
       "      <td>irs-tax.online</td>\n",
       "      <td>HTTrackSourceHost</td>\n",
       "      <td>2021-06-28 14:02:33</td>\n",
       "      <td>2021-06-28 15:03:43</td>\n",
       "      <td>100</td>\n",
       "    </tr>\n",
       "    <tr>\n",
       "      <th>2</th>\n",
       "      <td>irservice.online</td>\n",
       "      <td>HTTrackSourceHost</td>\n",
       "      <td>2021-08-03 18:12:45</td>\n",
       "      <td>2021-08-03 19:27:54</td>\n",
       "      <td>74</td>\n",
       "    </tr>\n",
       "    <tr>\n",
       "      <th>13</th>\n",
       "      <td>severvice0utkook.cf</td>\n",
       "      <td>MarkOfTheWebSourceHost</td>\n",
       "      <td>2019-07-21 03:54:56</td>\n",
       "      <td>2019-07-21 03:54:56</td>\n",
       "      <td>74</td>\n",
       "    </tr>\n",
       "    <tr>\n",
       "      <th>18</th>\n",
       "      <td>recentchecking.cf</td>\n",
       "      <td>MarkOfTheWebSourceHost</td>\n",
       "      <td>2019-07-08 13:03:57</td>\n",
       "      <td>2019-07-08 16:25:00</td>\n",
       "      <td>71</td>\n",
       "    </tr>\n",
       "    <tr>\n",
       "      <th>7</th>\n",
       "      <td>hanhphuctretho-org.micnguyen.com</td>\n",
       "      <td>HTTrackSourceHost</td>\n",
       "      <td>2020-06-14 12:31:48</td>\n",
       "      <td>2020-06-14 12:31:48</td>\n",
       "      <td>69</td>\n",
       "    </tr>\n",
       "    <tr>\n",
       "      <th>15</th>\n",
       "      <td>severvice0utkook.gq</td>\n",
       "      <td>MarkOfTheWebSourceHost</td>\n",
       "      <td>2019-07-21 03:55:01</td>\n",
       "      <td>2019-07-21 03:55:01</td>\n",
       "      <td>69</td>\n",
       "    </tr>\n",
       "    <tr>\n",
       "      <th>12</th>\n",
       "      <td>service03.ml</td>\n",
       "      <td>MarkOfTheWebSourceHost</td>\n",
       "      <td>2019-07-18 21:49:00</td>\n",
       "      <td>2019-07-22 16:32:38</td>\n",
       "      <td>68</td>\n",
       "    </tr>\n",
       "    <tr>\n",
       "      <th>6</th>\n",
       "      <td>3aconsultores.mx</td>\n",
       "      <td>HTTrackSourceHost</td>\n",
       "      <td>2020-02-25 19:16:07</td>\n",
       "      <td>2020-02-25 20:45:49</td>\n",
       "      <td>54</td>\n",
       "    </tr>\n",
       "    <tr>\n",
       "      <th>0</th>\n",
       "      <td>hanhphuctretho.org</td>\n",
       "      <td>HTTrackSourceHost</td>\n",
       "      <td>2020-06-13 20:16:20</td>\n",
       "      <td>2020-06-14 23:12:42</td>\n",
       "      <td>53</td>\n",
       "    </tr>\n",
       "    <tr>\n",
       "      <th>1</th>\n",
       "      <td>interrservice.com</td>\n",
       "      <td>HTTrackSourceHost</td>\n",
       "      <td>2021-07-30 01:50:58</td>\n",
       "      <td>2021-07-30 01:50:59</td>\n",
       "      <td>0</td>\n",
       "    </tr>\n",
       "  </tbody>\n",
       "</table>\n",
       "</div>"
      ],
      "text/plain": [
       "                                host             trackertype  \\\n",
       "10                    irs-tax.online       HTTrackSourceHost   \n",
       "2                   irservice.online       HTTrackSourceHost   \n",
       "13               severvice0utkook.cf  MarkOfTheWebSourceHost   \n",
       "18                 recentchecking.cf  MarkOfTheWebSourceHost   \n",
       "7   hanhphuctretho-org.micnguyen.com       HTTrackSourceHost   \n",
       "15               severvice0utkook.gq  MarkOfTheWebSourceHost   \n",
       "12                      service03.ml  MarkOfTheWebSourceHost   \n",
       "6                   3aconsultores.mx       HTTrackSourceHost   \n",
       "0                 hanhphuctretho.org       HTTrackSourceHost   \n",
       "1                  interrservice.com       HTTrackSourceHost   \n",
       "\n",
       "             firstseen            lastseen  reputation_score  \n",
       "10 2021-06-28 14:02:33 2021-06-28 15:03:43               100  \n",
       "2  2021-08-03 18:12:45 2021-08-03 19:27:54                74  \n",
       "13 2019-07-21 03:54:56 2019-07-21 03:54:56                74  \n",
       "18 2019-07-08 13:03:57 2019-07-08 16:25:00                71  \n",
       "7  2020-06-14 12:31:48 2020-06-14 12:31:48                69  \n",
       "15 2019-07-21 03:55:01 2019-07-21 03:55:01                69  \n",
       "12 2019-07-18 21:49:00 2019-07-22 16:32:38                68  \n",
       "6  2020-02-25 19:16:07 2020-02-25 20:45:49                54  \n",
       "0  2020-06-13 20:16:20 2020-06-14 23:12:42                53  \n",
       "1  2021-07-30 01:50:58 2021-07-30 01:50:59                 0  "
      ]
     },
     "execution_count": 5,
     "metadata": {},
     "output_type": "execute_result"
    }
   ],
   "source": [
    "whitelist = ['irs.gov','translate.goog','t.co']\n",
    "tracker_df = (\n",
    "    analyzer.Hostname('www.irs.gov')\n",
    "    .tracker_references\n",
    "    .filter(searchtype='hosts')\n",
    "    .exclude_domains_in(whitelist)\n",
    "    .as_df\n",
    ")\n",
    "tracker_df['reputation_score'] = tracker_df.apply(\n",
    "    lambda row: analyzer.Hostname(str(row['host'])).reputation.score, \n",
    "    axis=1\n",
    ")\n",
    "del(tracker_df['query'])\n",
    "del(tracker_df['searchtype'])\n",
    "tracker_df.nlargest(10,'reputation_score')"
   ]
  },
  {
   "cell_type": "markdown",
   "id": "137d5844-a421-41f5-8f5a-bc0e994b879b",
   "metadata": {},
   "source": [
    "The `reputation` property of Hostnames and IPAddress objects includes a `rules` property that offers insight into how the score was calculated. We can access the property directly or display it using `pandas`."
   ]
  },
  {
   "cell_type": "code",
   "execution_count": 67,
   "id": "0898b7b0-dddc-4ea0-a6ac-4bef9520e079",
   "metadata": {},
   "outputs": [
    {
     "data": {
      "text/html": [
       "<div>\n",
       "<style scoped>\n",
       "    .dataframe tbody tr th:only-of-type {\n",
       "        vertical-align: middle;\n",
       "    }\n",
       "\n",
       "    .dataframe tbody tr th {\n",
       "        vertical-align: top;\n",
       "    }\n",
       "\n",
       "    .dataframe thead th {\n",
       "        text-align: right;\n",
       "    }\n",
       "</style>\n",
       "<table border=\"1\" class=\"dataframe\">\n",
       "  <thead>\n",
       "    <tr style=\"text-align: right;\">\n",
       "      <th></th>\n",
       "      <th>query</th>\n",
       "      <th>score</th>\n",
       "      <th>classification</th>\n",
       "      <th>name</th>\n",
       "      <th>description</th>\n",
       "      <th>severity</th>\n",
       "      <th>link</th>\n",
       "    </tr>\n",
       "  </thead>\n",
       "  <tbody>\n",
       "    <tr>\n",
       "      <th>0</th>\n",
       "      <td>severvice0utkook.cf</td>\n",
       "      <td>74</td>\n",
       "      <td>SUSPICIOUS</td>\n",
       "      <td>TLD</td>\n",
       "      <td>Domains in this TLD are more likely to be mali...</td>\n",
       "      <td>4</td>\n",
       "      <td>None</td>\n",
       "    </tr>\n",
       "    <tr>\n",
       "      <th>1</th>\n",
       "      <td>severvice0utkook.cf</td>\n",
       "      <td>74</td>\n",
       "      <td>SUSPICIOUS</td>\n",
       "      <td>ASN</td>\n",
       "      <td>Infrastructure hosted by this ASN are more lik...</td>\n",
       "      <td>3</td>\n",
       "      <td>None</td>\n",
       "    </tr>\n",
       "  </tbody>\n",
       "</table>\n",
       "</div>"
      ],
      "text/plain": [
       "                 query  score classification name  \\\n",
       "0  severvice0utkook.cf     74     SUSPICIOUS  TLD   \n",
       "1  severvice0utkook.cf     74     SUSPICIOUS  ASN   \n",
       "\n",
       "                                         description  severity  link  \n",
       "0  Domains in this TLD are more likely to be mali...         4  None  \n",
       "1  Infrastructure hosted by this ASN are more lik...         3  None  "
      ]
     },
     "execution_count": 67,
     "metadata": {},
     "output_type": "execute_result"
    }
   ],
   "source": [
    "analyzer.Hostname('severvice0utkook[.]cf').reputation.to_dataframe(explode_rules=True)"
   ]
  },
  {
   "cell_type": "markdown",
   "id": "29c1cdee-4513-4e1e-89ed-a4ce6ddc6e32",
   "metadata": {},
   "source": [
    "> The `as_df` property is a shortcut to the `to_dataframe()` method available on nearly all `analyzer` objects. In some cases, `to_dataframe()` offers unique behavior specific to the object it is acting on. Here, we use a `pandas.DataFrame.explode()` method to unpack a list of rules and present them as rows, hence the `explode_rules` parameter."
   ]
  }
 ],
 "metadata": {
  "kernelspec": {
   "display_name": "ptlib_dev",
   "language": "python",
   "name": "passivetotal_dev"
  },
  "language_info": {
   "codemirror_mode": {
    "name": "ipython",
    "version": 3
   },
   "file_extension": ".py",
   "mimetype": "text/x-python",
   "name": "python",
   "nbconvert_exporter": "python",
   "pygments_lexer": "ipython3",
   "version": "3.8.2"
  }
 },
 "nbformat": 4,
 "nbformat_minor": 5
}
