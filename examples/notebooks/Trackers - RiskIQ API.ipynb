{
 "cells": [
  {
   "cell_type": "markdown",
   "source": [
    "# RiskIQ PassiveTotal Python Library"
   ],
   "metadata": {}
  },
  {
   "cell_type": "markdown",
   "source": [
    "#### *Using the Trackers dataset*"
   ],
   "metadata": {}
  },
  {
   "cell_type": "markdown",
   "source": [
    "## Getting Started"
   ],
   "metadata": {}
  },
  {
   "cell_type": "markdown",
   "source": [
    "This notebook leverages the RiskIQ Illuminate / PassiveTotal API through the `passivetotal` Python library. \n",
    "\n",
    "Documentation for the library, including how to install it and configure API keys, are available here:\n",
    "https://passivetotal.readthedocs.io/en/latest/getting-started.html\n",
    "\n",
    "You will need API credentials to authenticate with the API server that provide access to the datasets queried in this notebook. Ask your RiskIQ contact for details or visit https://info.riskiq.net/ to contact the support team."
   ],
   "metadata": {}
  },
  {
   "cell_type": "markdown",
   "source": [
    "### Optional Dependencies\n",
    "\n",
    "This notebook uses the `pandas` Python library primarily to improve the visual output of data tables retrieved from the API. You will need to install that library in your Python (virtual) environment (`pip install pandas`) or change the code examples to return a Python dictionary instead of a dataframe. Simply change `.as_df` to `.as_dict`.\n",
    "\n",
    "Some examples may use special features in `pandas` to filter or aggregate data, but these can also be implemented in pure Python."
   ],
   "metadata": {}
  },
  {
   "cell_type": "markdown",
   "source": [
    "By default, `pandas` will only show a subset of rows in notebooks. To display more, set the `max_rows` option to a higher value."
   ],
   "metadata": {}
  },
  {
   "cell_type": "code",
   "execution_count": null,
   "source": [
    "import pandas as pd\n",
    "pd.options.display.max_rows=500"
   ],
   "outputs": [],
   "metadata": {}
  },
  {
   "cell_type": "markdown",
   "source": [
    "### Product Context"
   ],
   "metadata": {}
  },
  {
   "cell_type": "markdown",
   "source": [
    "[Trackers](https://info.riskiq.net/hc/en-us/articles/360057824494-PassiveTotal-Datasets-Trackers)\n",
    "are unique codes or values found within web pages and often are used to track user interaction. These codes can be used to correlate a disparate group of websites to a central entity.\n"
   ],
   "metadata": {}
  },
  {
   "cell_type": "markdown",
   "source": [
    "### Setup Notebook\n",
    "*If this returns errors, ensure you have followed the Getting Started document linked above to install necessary dependencies and configure your API keys.*"
   ],
   "metadata": {}
  },
  {
   "cell_type": "code",
   "execution_count": null,
   "source": [
    "from passivetotal import analyzer\n",
    "analyzer.init()"
   ],
   "outputs": [],
   "metadata": {}
  },
  {
   "cell_type": "markdown",
   "source": [
    "### Table of Contents\n",
    "\n",
    "* [Tracker History](#Tracker-History): Start with a hostname and get a history of trackers observed on that host.\n",
    "* [Tracker Observations](#Tracker-Observations): Start with a tracker type and value to discover other sites where it has been observed.\n",
    "* [Reference Trackers](#Reference-Trackers): Query a derived dataset starting with a host to find other hosts where a site's content has been copied and re-published."
   ],
   "metadata": {}
  },
  {
   "cell_type": "markdown",
   "source": [
    "---\n",
    "## Tracker History"
   ],
   "metadata": {}
  },
  {
   "cell_type": "markdown",
   "source": [
    "#### Hostname and IP Tracker History\n",
    "RiskIQ gathers details on trackers during regular web crawls. The specific meaning of a tracker varies based on the \"tracker type\" assigned by RiskIQ analysts, but generally, one would expect a tracker value to uniquely identify a given site or organization. \n",
    "\n",
    "For example, a site admin may use a website monitoring product called New Relic to track the performance of their site. They will embedded Javascript code in their webpage that includes a uniquely-assigned identifier. RiskIQ crawlers will see and index that identifier as a tracker of type \"NewRelicID\" and associate the observation with the site where it was observed.\n",
    "\n",
    "Here, we consider the trackers observed on www.irs.gov."
   ],
   "metadata": {}
  },
  {
   "cell_type": "code",
   "execution_count": null,
   "source": [
    "analyzer.set_date_range(days_back=30)"
   ],
   "outputs": [],
   "metadata": {}
  },
  {
   "cell_type": "code",
   "execution_count": null,
   "source": [
    "analyzer.Hostname('www.irs.gov').trackers.as_df"
   ],
   "outputs": [],
   "metadata": {}
  },
  {
   "cell_type": "markdown",
   "source": [
    "> NOTE: If you change the `days_back` value above and re-run the query, you won't get new a different set of results. This is due to caching in the `analyzer.Hostname` objects. You can restart the notebook kernel, or run `analyzer.Hostname('www.irs.gov').reset('trackers')` to clear the cache."
   ],
   "metadata": {}
  },
  {
   "cell_type": "markdown",
   "source": [
    "---\n",
    "The `trackers` property of the `analyzer.Hostname` object returns an object of type `TrackerHistory` that behaves like a normal Python list, but also offers additional features through various properties. See the [reference docs](https://passivetotal.readthedocs.io/en/latest/analyzer.html?highlight=trackers#passivetotal.analyzer.trackers.TrackerHistory) for a complete list. "
   ],
   "metadata": {}
  },
  {
   "cell_type": "code",
   "execution_count": null,
   "source": [
    "for tracker in analyzer.Hostname('www.irs.gov').trackers:\n",
    "    print(tracker)"
   ],
   "outputs": [],
   "metadata": {}
  },
  {
   "cell_type": "markdown",
   "source": [
    "Like most `analyzer` objects, each entry in a list of trackers can be treated like a string for easy display, but they also contain a set of properties and attributes for direct access to the data. These properties are explained in the [reference docs](https://passivetotal.readthedocs.io/en/latest/analyzer.html?highlight=trackers#passivetotal.analyzer.trackers.TrackerRecord) for `TrackerRecord` objects. "
   ],
   "metadata": {}
  },
  {
   "cell_type": "code",
   "execution_count": null,
   "source": [
    "analyzer.Hostname('www.irs.gov').trackers.filter(category='NewRelicId')[0].value"
   ],
   "outputs": [],
   "metadata": {}
  },
  {
   "cell_type": "markdown",
   "source": [
    "> The `trackers` property is also available for [IP addresses](https://passivetotal.readthedocs.io/en/latest/analyzer.html?highlight=trackers#ip-analysis), with similar functionalty, though in most cases we recommend starting with a fully-qualified domain name for best results."
   ],
   "metadata": {}
  },
  {
   "cell_type": "markdown",
   "source": [
    "---\n",
    "## Tracker Observations"
   ],
   "metadata": {}
  },
  {
   "cell_type": "markdown",
   "source": [
    "Trackers can be an effective way of discovering other internet sites controlled by legitimate entities, but it can also be used for threat investigations and phishing site detection.\n",
    "\n",
    "When malicious actors copy website content with the intent to setup a phishing site, they often use automated tools that copy the entire HTML of the web page, including the Javascript and link parameters that setup trackers. In those cases, shared tracker values can be used to detect these copycat sites. \n",
    "\n",
    "The `analyzer` offers a top-level `Tracker` object you can use to search for all observations of a specific tracker type and value across hosts or IP addresses. "
   ],
   "metadata": {}
  },
  {
   "cell_type": "code",
   "execution_count": null,
   "source": [
    "analyzer.Tracker('NewRelicId','b67fc6a152').observations_by_hostname.as_df"
   ],
   "outputs": [],
   "metadata": {}
  },
  {
   "cell_type": "markdown",
   "source": [
    "The `analyzer.Tracker` object provides two properties to aid discovery of related sites: `observations_by_hostname` and `observations_by_ip`. Both return a list of observations as a `TrackerSearchResults` object that offers many of the same capabilities as a `TrackerHistory` object. \n",
    "\n",
    "You can instantiate a `analyzer.Tracker` object directly as shown above, or obtain an instance from the `tracker` property of a record returned in the `TrackerHistory` of a hostname or IP address."
   ],
   "metadata": {}
  },
  {
   "cell_type": "code",
   "execution_count": null,
   "source": [
    "analyzer.Hostname('www.irs.gov').trackers.filter(category='NewRelicId')[0].tracker"
   ],
   "outputs": [],
   "metadata": {}
  },
  {
   "cell_type": "code",
   "execution_count": null,
   "source": [
    "(\n",
    "    analyzer.Hostname('www.irs.gov')\n",
    "    .trackers\n",
    "    .filter(category='NewRelicId')[0]\n",
    "    .tracker\n",
    "    .observations_by_hostname\n",
    "    .totalrecords\n",
    ")"
   ],
   "outputs": [],
   "metadata": {}
  },
  {
   "cell_type": "markdown",
   "source": [
    "> This syntax can be a bit strange when you first encounter it. Python style guides generally discourage long lines of code, but when they are unavoidable or justified, the syntax permits enclosing blocks in parentheses.  "
   ],
   "metadata": {}
  },
  {
   "cell_type": "markdown",
   "source": [
    "These observations show other sites where RiskIQ has observed the same value for the NewRelicId tracker that the IRS has configured on their site. If these observations are subdomains of the 'irs.gov' domain they are likely benign, but if not, they are suspicious and worth further research.\n",
    "\n",
    "We can leverage features of the `analyzer` module and these specific tracker objects to focus on those suspicious sites."
   ],
   "metadata": {}
  },
  {
   "cell_type": "code",
   "execution_count": null,
   "source": [
    "whitelist = ['irs.gov','translate.goog','t.co']\n",
    "suspicious_trackers = (\n",
    "    analyzer.Tracker('NewRelicId','b67fc6a152')\n",
    "    .observations_by_hostname\n",
    "    .exclude_domains_in(whitelist)\n",
    ")\n",
    "suspicious_trackers.as_df"
   ],
   "outputs": [],
   "metadata": {
    "tags": []
   }
  },
  {
   "cell_type": "markdown",
   "source": [
    "> `host.registered_domain` works because the `host` attribute of tracker record returns an object of type `analyzer.Hostname`, and those objects offer several properties provided by the `tldextract` Python library, including `tld` and `registered_domain`."
   ],
   "metadata": {}
  },
  {
   "cell_type": "markdown",
   "source": [
    "As a further validation, we could examine the age of these domains and the registrant owner using whois data available in the `whois` property of the hostnames."
   ],
   "metadata": {}
  },
  {
   "cell_type": "code",
   "execution_count": null,
   "source": [
    "suspicious_tracker_analysis = []\n",
    "for tracker in suspicious_trackers.sorted_by('lastseen', True)[0:5]:\n",
    "    analysis = { \n",
    "        'host': str(tracker.host),\n",
    "        'whois_age': tracker.host.whois.age,\n",
    "        'whois_org': tracker.host.whois.registrant_org.value\n",
    "    }\n",
    "    suspicious_tracker_analysis.append(analysis)\n",
    "suspicious_tracker_analysis"
   ],
   "outputs": [],
   "metadata": {}
  },
  {
   "cell_type": "markdown",
   "source": [
    "> The `tracker.host` object will return an `analyzer.Hostname` object. Cast it as a string to get just the text value.\n",
    "\n",
    "> The second parameter of `sorted_by('lastseen', True)` activates a reverse sort, and together with the slice notion `[0:5]` gives us the top 5 `TrackerSearchRecord` objects. "
   ],
   "metadata": {}
  },
  {
   "cell_type": "markdown",
   "source": [
    "## Reference Trackers"
   ],
   "metadata": {}
  },
  {
   "cell_type": "markdown",
   "source": [
    "RiskIQ researchers have identified several instances where the value of a tracker provides an indication of where an Internet asset was originally hosted or where an Internet asset’s response body was originally copied from. We have merged these identifiers into our tracker dataset under one of several categories (or types).\n",
    "\n",
    "In the `analyzer` these trackers are available in the `trackers_reference` property of `analyzer.Hostname` and `analyzer.IPAddress` objects.\n",
    "\n",
    "Among other use cases, this enables you to find websites hosting files that were originally downloaded from a given site, often with malicious intent."
   ],
   "metadata": {}
  },
  {
   "cell_type": "code",
   "execution_count": null,
   "source": [
    "analyzer.Hostname('www.irs.gov').tracker_references.as_df"
   ],
   "outputs": [],
   "metadata": {}
  },
  {
   "cell_type": "markdown",
   "source": [
    "> This property performs multiple API queries to search both IPs and hosts for several types of trackers. If you need to conserve API queries, instantiate an `analyzer.Tracker` object and use the `observations_by_hostname` or `observations_by_ip` properties directly."
   ],
   "metadata": {}
  },
  {
   "cell_type": "markdown",
   "source": [
    "Combining features from `pandas` and the `analyzer` module, we can create a custom dataframe with the RiskIQ Illuminate Reputation Score for each domain. "
   ],
   "metadata": {}
  },
  {
   "cell_type": "code",
   "execution_count": null,
   "source": [
    "whitelist = ['irs.gov','translate.goog','t.co']\n",
    "tracker_df = (\n",
    "    analyzer.Hostname('www.irs.gov')\n",
    "    .tracker_references\n",
    "    .filter(searchtype='hosts')\n",
    "    .exclude_domains_in(whitelist)\n",
    "    .as_df\n",
    ")\n",
    "tracker_df['reputation_score'] = tracker_df.apply(\n",
    "    lambda row: analyzer.Hostname(str(row['host'])).reputation.score, \n",
    "    axis=1\n",
    ")\n",
    "del(tracker_df['query'])\n",
    "del(tracker_df['searchtype'])\n",
    "tracker_df.nlargest(10,'reputation_score')"
   ],
   "outputs": [],
   "metadata": {}
  },
  {
   "cell_type": "markdown",
   "source": [
    "The `reputation` property of Hostnames and IPAddress objects includes a `rules` property that offers insight into how the score was calculated. We can access the property directly or display it using `pandas`."
   ],
   "metadata": {}
  },
  {
   "cell_type": "code",
   "execution_count": null,
   "source": [
    "analyzer.Hostname('severvice0utkook[.]cf').reputation.to_dataframe(explode_rules=True)"
   ],
   "outputs": [],
   "metadata": {}
  },
  {
   "cell_type": "markdown",
   "source": [
    "> The `as_df` property is a shortcut to the `to_dataframe()` method available on nearly all `analyzer` objects. In some cases, `to_dataframe()` offers unique behavior specific to the object it is acting on. Here, we use a `pandas.DataFrame.explode()` method to unpack a list of rules and present them as rows, hence the `explode_rules` parameter."
   ],
   "metadata": {}
  }
 ],
 "metadata": {
  "kernelspec": {
   "name": "python3",
   "display_name": "Python 3.8.2 64-bit"
  },
  "language_info": {
   "codemirror_mode": {
    "name": "ipython",
    "version": 3
   },
   "file_extension": ".py",
   "mimetype": "text/x-python",
   "name": "python",
   "nbconvert_exporter": "python",
   "pygments_lexer": "ipython3",
   "version": "3.8.2"
  },
  "interpreter": {
   "hash": "48a94fd9c3faed58921e8eeafd6133f2080fb9f3fec1af84aa81ec152ca66bb0"
  }
 },
 "nbformat": 4,
 "nbformat_minor": 5
}