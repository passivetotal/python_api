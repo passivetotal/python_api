{
 "cells": [
  {
   "cell_type": "markdown",
   "id": "d19be504-6baf-4e12-9726-7386b8906c5b",
   "metadata": {},
   "source": [
    "# RiskIQ PassiveTotal Python Library"
   ]
  },
  {
   "cell_type": "markdown",
   "id": "875d1455-8044-48f8-882a-c0846e23711a",
   "metadata": {},
   "source": [
    "#### *Illuminate Cyber Threat Intelligence (CTI)*"
   ]
  },
  {
   "cell_type": "markdown",
   "id": "5f58e227-2051-45b7-9739-43de8b2aa2b5",
   "metadata": {},
   "source": [
    "## Getting Started"
   ]
  },
  {
   "cell_type": "markdown",
   "id": "f347eda2-d21e-4371-ac96-b59a211b9cd4",
   "metadata": {},
   "source": [
    "This notebook leverages the RiskIQ Illuminate / PassiveTotal API through the `passivetotal` Python library. \n",
    "\n",
    "Documentation for the library, including how to install it and configure API keys, are available here:\n",
    "https://passivetotal.readthedocs.io/en/latest/getting-started.html\n",
    "\n",
    "You will need API credentials to authenticate with the API server that provide access to the datasets queried in this notebook. Ask your RiskIQ contact for details or visit https://info.riskiq.net/ to contact the support team."
   ]
  },
  {
   "cell_type": "markdown",
   "id": "f9640d09-3008-4328-9ab8-5320c9e3abeb",
   "metadata": {},
   "source": [
    "### Optional Dependencies\n",
    "\n",
    "This notebook uses the `pandas` Python library primarily to improve the visual output of data tables retrieved from the API. You will need to install that library in your Python (virtual) environment (`pip install pandas`) or change the code examples to return a Python dictionary instead of a dataframe. Simply change `.as_df` to `.as_dict`.\n",
    "\n",
    "Note that some examples may use special features in `pandas` to filter or aggregate data, but these can also be implemented in pure Python."
   ]
  },
  {
   "cell_type": "markdown",
   "id": "a8abf502-701e-4bba-98fd-b874662e5a55",
   "metadata": {},
   "source": [
    "### Product Context\n",
    "\n",
    "https://www.riskiq.com/solutions/cyber-threat-intelligence/"
   ]
  },
  {
   "cell_type": "markdown",
   "id": "615231b1-6a0c-4e27-9c02-2e6d44b0ea2d",
   "metadata": {},
   "source": [
    "### Setup Notebook\n",
    "*If this returns errors, ensure you have followed the Getting Started document linked above to install necessary dependencies and configure your API keys.*"
   ]
  },
  {
   "cell_type": "code",
   "execution_count": 2,
   "id": "9ac4f5fa-d2e1-4f7a-b212-ade74eaa2c04",
   "metadata": {},
   "outputs": [],
   "source": [
    "from passivetotal import analyzer\n",
    "analyzer.init()"
   ]
  },
  {
   "cell_type": "markdown",
   "id": "4b1b1093-b4dd-42c9-af14-d21c8d2223e4",
   "metadata": {},
   "source": [
    "## Cyber Threat Intelligence"
   ]
  },
  {
   "cell_type": "markdown",
   "id": "d59b2ccf-6b91-4245-b408-38efeb157b82",
   "metadata": {},
   "source": [
    "Load all CTI intel profiles and store them in a local variable."
   ]
  },
  {
   "cell_type": "code",
   "execution_count": null,
   "id": "54d02fc9-a0dd-4f00-ad20-2839bc5d4322",
   "metadata": {
    "tags": []
   },
   "outputs": [],
   "source": [
    "intel_profiles = analyzer.illuminate.IntelProfiles.load()\n",
    "intel_profiles"
   ]
  },
  {
   "cell_type": "markdown",
   "id": "f58b1f0f-cbf8-47e4-8fd6-ab6e6c2cb1ce",
   "metadata": {},
   "source": [
    "The returned object is of type `IntelProfiles` which can be treated like a standard list:"
   ]
  },
  {
   "cell_type": "code",
   "execution_count": null,
   "id": "0be37cf3-1317-45e4-a1a1-20c84a035c8f",
   "metadata": {
    "tags": []
   },
   "outputs": [],
   "source": [
    "for profile in intel_profiles:\n",
    "    print(profile.id)"
   ]
  },
  {
   "cell_type": "markdown",
   "id": "9e6f1392-aa2d-4397-97db-db4bf206eee7",
   "metadata": {},
   "source": [
    "Here, we are printing the RiskIQ identifier for each profile, but more details are available - see the [reference docs](https://passivetotal.readthedocs.io/en/latest/illuminate.html#passivetotal.analyzer.illuminate.IntelProfile) for a complete list.\n",
    "\n",
    "Alternativesly, if you `pandas`, you can view the details in a tabular view."
   ]
  },
  {
   "cell_type": "code",
   "execution_count": null,
   "id": "21db96f0-ce99-444a-b2e2-672c8e8065ea",
   "metadata": {},
   "outputs": [],
   "source": [
    "intel_profiles[0].as_df.T"
   ]
  },
  {
   "cell_type": "markdown",
   "id": "f537bf88-7494-4df1-8403-601dada1fd65",
   "metadata": {},
   "source": [
    "---\n",
    "The `id` property of an intel profile is a string, but it is intended to be a stable identifier, meaning RiskIQ analysts will always keep the ID the same for a given profile. You can use this to easily recall a specific intel profile using the analyzer, which can provide a quick route to get the current list of indicators for that profile."
   ]
  },
  {
   "cell_type": "code",
   "execution_count": null,
   "id": "a2f89f52-63aa-46b7-9519-a0008589802b",
   "metadata": {
    "tags": []
   },
   "outputs": [],
   "source": [
    "profile = analyzer.illuminate.IntelProfile('cobalt-strike')\n",
    "for indicator in profile.indicators:\n",
    "    print(indicator)"
   ]
  },
  {
   "cell_type": "markdown",
   "id": "2e7360cc-bc6e-4b39-977b-39d740d25ee5",
   "metadata": {},
   "source": [
    "`profile.indicators` is of type `IntelProfileIndicatorList` and offers several specialized properties for filtering the indicator list in addition to list-like behavior. See the [docs](https://passivetotal.readthedocs.io/en/latest/illuminate.html#passivetotal.analyzer.illuminate.IntelProfileIndicatorList) for a complete list.\n",
    "\n",
    "For example, the intel profile lists may contain both OSINT (open-source intelligence) indicators and indicators surfaced exclusively by RiskIQ analysts. To focus on the latter list, use the `only_riskiq` property:"
   ]
  },
  {
   "cell_type": "code",
   "execution_count": null,
   "id": "39b21747-f7c9-4d19-afcc-256606db431c",
   "metadata": {
    "tags": []
   },
   "outputs": [],
   "source": [
    "for indicator in profile.indicators.only_riskiq:\n",
    "    print(indicator)"
   ]
  },
  {
   "cell_type": "markdown",
   "id": "feb38d35-f2fb-4ae6-9edc-ceddc4d28475",
   "metadata": {},
   "source": [
    "---\n",
    "Each indicator has a complete set of details associated with it. \n",
    "\n",
    "In the example above, we are using a feature of the `IntelProfileIndicator` object that makes it behave like a string, but other properties are available. See [the docs](https://passivetotal.readthedocs.io/en/latest/illuminate.html#passivetotal.analyzer.illuminate.IntelProfileIndicator) or use the `as_dict` param to return them in a Python dictionary."
   ]
  },
  {
   "cell_type": "code",
   "execution_count": null,
   "id": "72a76e58-e916-4770-8d14-7cdac40db5dc",
   "metadata": {
    "tags": []
   },
   "outputs": [],
   "source": [
    "profile.indicators[0].as_dict"
   ]
  },
  {
   "cell_type": "markdown",
   "id": "6efe1a48-ec5f-4ab3-b30c-050c9214e3d6",
   "metadata": {},
   "source": [
    "If you just need a list of all indicators in a standard Python object, use the `as_dict` property on the `indicators` property directly."
   ]
  },
  {
   "cell_type": "code",
   "execution_count": null,
   "id": "4c5b41f8-2db2-4697-b82d-ea25f6b78d3e",
   "metadata": {
    "tags": []
   },
   "outputs": [],
   "source": [
    "profile.indicators.as_dict"
   ]
  },
  {
   "cell_type": "markdown",
   "id": "c2d849f7-20ac-42ce-a599-fd693b516a77",
   "metadata": {
    "tags": []
   },
   "source": [
    "---\n",
    "A common use case is to check whether an indicator is listed in a published threat intelligence profile. Use the `intel_profiles` property of `analyzer.Hostname` or `analyzer.IPAddress` objects to discover them. "
   ]
  },
  {
   "cell_type": "code",
   "execution_count": null,
   "id": "1fe0bb9c-bf25-44dc-8e7e-6da1224368dd",
   "metadata": {
    "tags": []
   },
   "outputs": [],
   "source": [
    "analyzer.IPAddress('45[.]76[.]208[.]172').intel_profiles.as_df"
   ]
  },
  {
   "cell_type": "code",
   "execution_count": null,
   "id": "9e7ec0c3-2ddd-43b1-9fb5-ccb4617d91bf",
   "metadata": {},
   "outputs": [],
   "source": [
    "analyzer.Hostname('baroquetees[.]com').intel_profiles.as_df"
   ]
  },
  {
   "cell_type": "markdown",
   "id": "03da9ec8-024e-4e79-9503-6c6512b0f587",
   "metadata": {},
   "source": [
    "To check whether an indicator is listed in an intel profile, test the length of the `intel_profiles` property."
   ]
  },
  {
   "cell_type": "code",
   "execution_count": null,
   "id": "3c0d25e0-ae42-4d0d-a086-af950eeaa4d2",
   "metadata": {},
   "outputs": [],
   "source": [
    "len(analyzer.Hostname('riskiq.com').intel_profiles)"
   ]
  }
 ],
 "metadata": {
  "kernelspec": {
   "display_name": "ptlib_dev",
   "language": "python",
   "name": "passivetotal_dev"
  },
  "language_info": {
   "codemirror_mode": {
    "name": "ipython",
    "version": 3
   },
   "file_extension": ".py",
   "mimetype": "text/x-python",
   "name": "python",
   "nbconvert_exporter": "python",
   "pygments_lexer": "ipython3",
   "version": "3.8.2"
  }
 },
 "nbformat": 4,
 "nbformat_minor": 5
}
