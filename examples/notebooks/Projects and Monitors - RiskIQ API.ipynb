{
 "cells": [
  {
   "cell_type": "markdown",
   "id": "e0ba079e-b784-47e1-8042-1413c6fce657",
   "metadata": {},
   "source": [
    "# RiskIQ PassiveTotal Python Library"
   ]
  },
  {
   "cell_type": "markdown",
   "id": "d6f7f4a4-809f-463f-943e-25c5f4b89867",
   "metadata": {},
   "source": [
    "#### *Projects and Monitors*"
   ]
  },
  {
   "cell_type": "markdown",
   "id": "e7c9e408-1712-4647-8e3c-0aea69640e69",
   "metadata": {},
   "source": [
    "## Getting Started"
   ]
  },
  {
   "cell_type": "markdown",
   "id": "fc51effe-2041-449e-84a2-fbd2010804e0",
   "metadata": {},
   "source": [
    "This notebook leverages the RiskIQ Illuminate / PassiveTotal API through the `passivetotal` Python library. \n",
    "\n",
    "Documentation for the library, including how to install it and configure API keys, are available here:\n",
    "https://passivetotal.readthedocs.io/en/latest/getting-started.html\n",
    "\n",
    "You will need API credentials to authenticate with the API server that provide access to the datasets queried in this notebook. Ask your RiskIQ contact for details or visit https://info.riskiq.net/ to contact the support team."
   ]
  },
  {
   "cell_type": "markdown",
   "id": "c5a6cc89-6d2c-431c-aa57-64ccdaea6952",
   "metadata": {},
   "source": [
    "### Optional Dependencies\n",
    "\n",
    "This notebook uses the `pandas` Python library primarily to improve the visual output of data tables retrieved from the API. You will need to install that library in your Python (virtual) environment (`pip install pandas`) or change the code examples to return a Python dictionary instead of a dataframe. Simply change `.as_df` to `.as_dict`.\n",
    "\n",
    "Some examples may use special features in `pandas` to filter or aggregate data, but these can also be implemented in pure Python."
   ]
  },
  {
   "cell_type": "markdown",
   "id": "452be3a0-d35f-43f6-84f3-43b17e4684bc",
   "metadata": {},
   "source": [
    "By default, `pandas` will only show a subset of rows in notebooks. To display more, set the `max_rows` option to a higher value."
   ]
  },
  {
   "cell_type": "code",
   "execution_count": 2,
   "id": "835be2f0-95da-4f4f-9686-2f93bd81ad70",
   "metadata": {},
   "outputs": [],
   "source": [
    "import pandas as pd\n",
    "pd.options.display.max_rows=100"
   ]
  },
  {
   "cell_type": "markdown",
   "id": "f90ad995-38a2-4677-be07-40db649098ad",
   "metadata": {},
   "source": [
    "### Product Context"
   ]
  },
  {
   "cell_type": "markdown",
   "id": "3a203826-3042-4496-8444-c01665015d0e",
   "metadata": {},
   "source": [
    "[PassiveTotal Projects](https://info.riskiq.net/hc/en-us/articles/1500000017121-PassiveTotal-Projects-Overview)\n",
    "are used by analysts to group related indicators of compromise (IOCs) together in the course of an investigation and (optionally) share those indicators with other users in their organziation. IOCs are stored as \"artifacts\" in a project and may include domains, IPs, keywords, SSL certificate hashes, and other types.\n",
    "\n",
    "Most artifact types can be monitored for changes or new keyword matches using [PassiveTotal Monitors](https://info.riskiq.net/hc/en-us/articles/360057825114-PassiveTotal-Monitors).\n",
    "\n",
    "Alerts are typically sent via email but they can also be retrieved programatically via the API. This notebook demonstrates how to create a project, store indicators in the project, and retrieve new alerts for those indicators.\n"
   ]
  },
  {
   "cell_type": "markdown",
   "id": "97af0567-0e12-4587-a0f1-0f257cc2d5a9",
   "metadata": {},
   "source": [
    "### Setup Notebook\n",
    "*If this returns errors, ensure you have followed the Getting Started document linked above to install necessary dependencies and configure your API keys.*"
   ]
  },
  {
   "cell_type": "code",
   "execution_count": 3,
   "id": "d43715fb-51c9-49da-a8d4-1f73aeb67dda",
   "metadata": {},
   "outputs": [],
   "source": [
    "from passivetotal import analyzer\n",
    "analyzer.init()"
   ]
  },
  {
   "cell_type": "markdown",
   "id": "7217de6f-c1c1-4e0e-a75c-199c10d10866",
   "metadata": {},
   "source": [
    "### Table of Contents\n",
    "\n",
    "* [Set Active Project](#Set-Active-Project): Use the `analyzer` module to quickly set a project context.\n",
    "* [Get Active Project](#Get-Active-Project): Get details about the current project including the IOCs previously added to it.\n",
    "* [Find Specific Project](#Find-Specific-Project): Find a specific project by ID or name.\n",
    "* [Working With Artifacts](#Working-With-Artifacts): List artifacts in a project and activate monitoring.\n",
    "* [Artifact Monitoring](#Artifact-Monitoring): Get daily alerts for monitored artifacts.\n",
    "* [Filter Alerts](#Filter-Alerts): Enrich alerts with data from other PassiveTotal APIs to enable filtering and focused analysis."
   ]
  },
  {
   "cell_type": "markdown",
   "id": "ac1a083c-adb3-4b9f-8854-9df2c1b3c785",
   "metadata": {},
   "source": [
    "---\n",
    "## Projects"
   ]
  },
  {
   "cell_type": "markdown",
   "id": "5007cc72-edb7-4a99-8203-f4a1dab69834",
   "metadata": {},
   "source": [
    "### Set Active Project\n",
    "The easiest way to get started with a project is to use the `analyzer` module-level `set_project` method to set the default project for all subsequent actions in your notebook session."
   ]
  },
  {
   "cell_type": "code",
   "execution_count": 3,
   "id": "fe16dd66-fbf3-48b7-8cc2-13824a840211",
   "metadata": {},
   "outputs": [],
   "source": [
    "analyzer.set_project('My Sample Project')"
   ]
  },
  {
   "cell_type": "markdown",
   "id": "4edd1e94-2ac9-472b-81de-454ae87973a0",
   "metadata": {},
   "source": [
    "Projects can be made visible to only you, or your team, or everyone; \"analyst\" visiblity is the default. \n",
    "\n",
    "To set other options, [consult the documentation](https://passivetotal.readthedocs.io/en/latest/analyzer.html) or use the built-in help function inside this notebook:"
   ]
  },
  {
   "cell_type": "code",
   "execution_count": 3,
   "id": "efbf484f-6d01-4206-9c8a-41aac167c97e",
   "metadata": {},
   "outputs": [
    {
     "data": {
      "text/plain": [
       "\u001b[0;31mSignature:\u001b[0m\n",
       "\u001b[0manalyzer\u001b[0m\u001b[0;34m.\u001b[0m\u001b[0mset_project\u001b[0m\u001b[0;34m(\u001b[0m\u001b[0;34m\u001b[0m\n",
       "\u001b[0;34m\u001b[0m    \u001b[0mname_or_guid\u001b[0m\u001b[0;34m,\u001b[0m\u001b[0;34m\u001b[0m\n",
       "\u001b[0;34m\u001b[0m    \u001b[0mvisibility\u001b[0m\u001b[0;34m=\u001b[0m\u001b[0;34m'analyst'\u001b[0m\u001b[0;34m,\u001b[0m\u001b[0;34m\u001b[0m\n",
       "\u001b[0;34m\u001b[0m    \u001b[0mdescription\u001b[0m\u001b[0;34m=\u001b[0m\u001b[0;34m''\u001b[0m\u001b[0;34m,\u001b[0m\u001b[0;34m\u001b[0m\n",
       "\u001b[0;34m\u001b[0m    \u001b[0mtags\u001b[0m\u001b[0;34m=\u001b[0m\u001b[0;32mNone\u001b[0m\u001b[0;34m,\u001b[0m\u001b[0;34m\u001b[0m\n",
       "\u001b[0;34m\u001b[0m    \u001b[0mcreate_if_missing\u001b[0m\u001b[0;34m=\u001b[0m\u001b[0;32mTrue\u001b[0m\u001b[0;34m,\u001b[0m\u001b[0;34m\u001b[0m\n",
       "\u001b[0;34m\u001b[0m\u001b[0;34m)\u001b[0m\u001b[0;34m\u001b[0m\u001b[0;34m\u001b[0m\u001b[0m\n",
       "\u001b[0;31mDocstring:\u001b[0m\n",
       "Set the active Illuminate Project for this investigation. \n",
       "\n",
       "Used by Analyzer objects to persist results to projects. Performs an API query to determine if project\n",
       "exists, create it if it is missing, and obtain necessary details.\n",
       "\n",
       ":param name_or_guid: Project name or project GUID.\n",
       ":param visibility: Who can see the project: public, private or analyst (optional, defaults to 'analyst').\n",
       ":param description: Description of the project (optional).\n",
       ":param tags: List of tags to apply to the project (optional).\n",
       ":param create_if_missing: Whether to auto-create the project if it doesn't exist (optional, defaults to true).\n",
       "\u001b[0;31mFile:\u001b[0m      ~/dev/passivetotal/analyzer/__init__.py\n",
       "\u001b[0;31mType:\u001b[0m      function\n"
      ]
     },
     "metadata": {},
     "output_type": "display_data"
    }
   ],
   "source": [
    "analyzer.set_project?"
   ]
  },
  {
   "cell_type": "markdown",
   "id": "d6840943-2ad2-4267-9b59-a82999e741a8",
   "metadata": {},
   "source": [
    "After settting the active project, you can easily add Hostname or IPAddress artifact types directly from the analyzer."
   ]
  },
  {
   "cell_type": "code",
   "execution_count": 4,
   "id": "e2a8c2e0-28bc-4397-8253-7ebc419966c2",
   "metadata": {},
   "outputs": [],
   "source": [
    "analyzer.Hostname('riskiq.net').save_to_project()\n",
    "analyzer.IPAddress('8.8.8.8').save_to_project()"
   ]
  },
  {
   "cell_type": "markdown",
   "id": "918faa3f-ff43-4451-ad91-22fc6894142e",
   "metadata": {},
   "source": [
    "> To save other artifact types, use the UI or access the underling API libraries directly."
   ]
  },
  {
   "cell_type": "markdown",
   "id": "ec14a762-02d9-41ab-b99e-acfebef90983",
   "metadata": {},
   "source": [
    "---\n",
    "### Get Active Project\n",
    "Retrieve the current project as an object to change settings or list artifacts in the project."
   ]
  },
  {
   "cell_type": "code",
   "execution_count": 5,
   "id": "31a309c5-f809-4161-9c92-f59e7b5ce400",
   "metadata": {},
   "outputs": [
    {
     "data": {
      "text/plain": [
       "<Project 3c7f7ed1-15eb-41bd-93ac-9e1b36a41244 'My Sample Project'"
      ]
     },
     "execution_count": 5,
     "metadata": {},
     "output_type": "execute_result"
    }
   ],
   "source": [
    "project = analyzer.get_project()\n",
    "project"
   ]
  },
  {
   "cell_type": "code",
   "execution_count": 6,
   "id": "f2006886-61a6-4cec-8aab-40c70ad8f497",
   "metadata": {},
   "outputs": [
    {
     "data": {
      "text/plain": [
       "{'project_guid': '3c7f7ed1-15eb-41bd-93ac-9e1b36a41244',\n",
       " 'name': 'My Sample Project',\n",
       " 'description': '',\n",
       " 'visibility': 'analyst',\n",
       " 'is_featured': False,\n",
       " 'tags': [],\n",
       " 'owner': 'riskiq',\n",
       " 'creator': 'user@host.com',\n",
       " 'organization': 'riskiq',\n",
       " 'link': None,\n",
       " 'collaborators': [],\n",
       " 'links': {'self': '/v2/project?project=3c7f7ed1-15eb-41bd-93ac-9e1b36a41244',\n",
       "  'artifact': '/v2/artifact?project=3c7f7ed1-15eb-41bd-93ac-9e1b36a41244',\n",
       "  'tag': '/v2/project/tag?project=3c7f7ed1-15eb-41bd-93ac-9e1b36a41244'},\n",
       " 'subscribers': [],\n",
       " 'can_edit': True,\n",
       " 'created': '2021-10-13 18:02:14.551000+00:00'}"
      ]
     },
     "execution_count": 6,
     "metadata": {},
     "output_type": "execute_result"
    }
   ],
   "source": [
    "project.as_dict"
   ]
  },
  {
   "cell_type": "code",
   "execution_count": 7,
   "id": "f69e2e8d-462b-4770-9c2f-57f0ea110f57",
   "metadata": {},
   "outputs": [
    {
     "name": "stdout",
     "output_type": "stream",
     "text": [
      "riskiq.net\n",
      "8.8.8.8\n"
     ]
    }
   ],
   "source": [
    "for artifact in project.artifacts:\n",
    "    print(artifact)"
   ]
  },
  {
   "cell_type": "markdown",
   "id": "503b76de-7789-48df-8d47-e4e207e38545",
   "metadata": {},
   "source": [
    "---\n",
    "### Find Specific Project\n",
    "If you already know the project you want to retrieve, you can obtain it directly without using the convenience methods provided by the analyzer.\n",
    "\n",
    "The most efficient way to obtain a project is with the projects GUID which you can access from the `project_guid` property of an `Project` object, or from the PassiveTotal UI by navigating to the project and looking at the last part of the URL."
   ]
  },
  {
   "cell_type": "code",
   "execution_count": 8,
   "id": "29c5f3f5-31bd-41c2-82d1-3916af1622fd",
   "metadata": {},
   "outputs": [
    {
     "data": {
      "text/plain": [
       "'My Sample Project'"
      ]
     },
     "execution_count": 8,
     "metadata": {},
     "output_type": "execute_result"
    }
   ],
   "source": [
    "project = analyzer.Project.find('3c7f7ed1-15eb-41bd-93ac-9e1b36a41244')\n",
    "project.name"
   ]
  },
  {
   "cell_type": "markdown",
   "id": "7f13ef49-bdf1-4ae9-899c-b9a895ca4f11",
   "metadata": {},
   "source": [
    "Alternatively, you can find a project by name, but be aware this performs a search against the API, which may take some time."
   ]
  },
  {
   "cell_type": "code",
   "execution_count": 9,
   "id": "8a00f847-d9ea-4900-bb83-d02dc1d24e12",
   "metadata": {},
   "outputs": [
    {
     "data": {
      "text/plain": [
       "'My Sample Project'"
      ]
     },
     "execution_count": 9,
     "metadata": {},
     "output_type": "execute_result"
    }
   ],
   "source": [
    "project = analyzer.Project.find('My Sample Project')\n",
    "project.name"
   ]
  },
  {
   "cell_type": "markdown",
   "id": "dfbcf936-da11-4ab5-a225-747995c24779",
   "metadata": {},
   "source": [
    "> Project names are not unique in the PassiveTotal app. You will get an error if your result returns more than one project. To obtain a list of projects, use `analyzer.ProjectList.find` instead.\n",
    "\n",
    "> By default, the scope of the search is projects with visibilty=\"analyst\". If you aren't finding the project you expect, use the GUID instead or set a different visibility."
   ]
  },
  {
   "cell_type": "markdown",
   "id": "720f966b-bfe0-4581-9858-5f1295784057",
   "metadata": {},
   "source": [
    "---\n",
    "### Working With Artifacts\n",
    "\n",
    "Projects contain lists of artifacts of various types. To obtain the list, load a project and access the `artifacts` property."
   ]
  },
  {
   "cell_type": "code",
   "execution_count": 10,
   "id": "e8f33056-63e0-4043-a9c8-184940680474",
   "metadata": {},
   "outputs": [
    {
     "data": {
      "text/plain": [
       "<passivetotal.analyzer.projects.ArtifactList at 0x11bdcaac0>"
      ]
     },
     "execution_count": 10,
     "metadata": {},
     "output_type": "execute_result"
    }
   ],
   "source": [
    "project.artifacts"
   ]
  },
  {
   "cell_type": "markdown",
   "id": "007cbb6f-4a1b-4596-aa73-f7b7a48936ac",
   "metadata": {},
   "source": [
    "Artifacts are returned in a list-like analyzer object of type `ArtifactList`. Like other analyzer objects, it can iterated, sorted, filtered, and displayed in various ways."
   ]
  },
  {
   "cell_type": "code",
   "execution_count": 11,
   "id": "20d59d54-b3c1-48f9-b418-9348ef74d9f2",
   "metadata": {},
   "outputs": [
    {
     "data": {
      "text/plain": [
       "{'totalrecords': 2,\n",
       " 'records': [{'type': 'domain',\n",
       "   'project_guid': '3c7f7ed1-15eb-41bd-93ac-9e1b36a41244',\n",
       "   'artifact_guid': 'd0b69764-7dac-45c3-8248-366ff8fb181b',\n",
       "   'is_monitored': False,\n",
       "   'is_monitorable': True,\n",
       "   'organization': 'riskiq',\n",
       "   'links': {'tag': '/v2/artifact/tag?artifact=d0b69764-7dac-45c3-8248-366ff8fb181b',\n",
       "    'project': '/v2/project?project=3c7f7ed1-15eb-41bd-93ac-9e1b36a41244',\n",
       "    'self': '/v2/artifact?artifact=d0b69764-7dac-45c3-8248-366ff8fb181b'},\n",
       "   'owner': 'riskiq',\n",
       "   'name': 'riskiq.net',\n",
       "   'creator': 'user@host.com',\n",
       "   'tags_meta': {'test': {'creator': 'user@host.com',\n",
       "     'created_at': '2021-10-13T19:26:35.237000'}},\n",
       "   'tags_global': None,\n",
       "   'tags_system': [],\n",
       "   'tags_user': ['test'],\n",
       "   'created': '2021-10-13 18:09:58.241000'},\n",
       "  {'type': 'ip',\n",
       "   'project_guid': '3c7f7ed1-15eb-41bd-93ac-9e1b36a41244',\n",
       "   'artifact_guid': 'a11c40b7-6bf4-45b0-9e77-a30b66e20be3',\n",
       "   'is_monitored': True,\n",
       "   'is_monitorable': True,\n",
       "   'organization': 'riskiq',\n",
       "   'links': {'tag': '/v2/artifact/tag?artifact=a11c40b7-6bf4-45b0-9e77-a30b66e20be3',\n",
       "    'project': '/v2/project?project=3c7f7ed1-15eb-41bd-93ac-9e1b36a41244',\n",
       "    'self': '/v2/artifact?artifact=a11c40b7-6bf4-45b0-9e77-a30b66e20be3'},\n",
       "   'owner': 'riskiq',\n",
       "   'name': '8.8.8.8',\n",
       "   'creator': 'user@host.com',\n",
       "   'tags_meta': {'cookie': {'creator': 'user2@host.com',\n",
       "     'created_at': '2021-09-01T20:06:39.821000'},\n",
       "    'test': {'creator': 'user2@host.com',\n",
       "     'created_at': '2021-09-01T20:06:39.821000'}},\n",
       "   'tags_global': None,\n",
       "   'tags_system': [],\n",
       "   'tags_user': ['cookie', 'test'],\n",
       "   'created': '2021-10-13 18:09:58.594000'}]}"
      ]
     },
     "execution_count": 11,
     "metadata": {},
     "output_type": "execute_result"
    }
   ],
   "source": [
    "project.artifacts.as_dict"
   ]
  },
  {
   "cell_type": "code",
   "execution_count": 12,
   "id": "c2673834-cf72-4bee-950c-535bfc1685dc",
   "metadata": {},
   "outputs": [
    {
     "data": {
      "text/plain": [
       "{'totalrecords': 1,\n",
       " 'records': [{'type': 'domain',\n",
       "   'project_guid': '3c7f7ed1-15eb-41bd-93ac-9e1b36a41244',\n",
       "   'artifact_guid': 'd0b69764-7dac-45c3-8248-366ff8fb181b',\n",
       "   'is_monitored': False,\n",
       "   'is_monitorable': True,\n",
       "   'organization': 'riskiq',\n",
       "   'links': {'tag': '/v2/artifact/tag?artifact=d0b69764-7dac-45c3-8248-366ff8fb181b',\n",
       "    'project': '/v2/project?project=3c7f7ed1-15eb-41bd-93ac-9e1b36a41244',\n",
       "    'self': '/v2/artifact?artifact=d0b69764-7dac-45c3-8248-366ff8fb181b'},\n",
       "   'owner': 'riskiq',\n",
       "   'name': 'riskiq.net',\n",
       "   'creator': 'user@host.com',\n",
       "   'tags_meta': {'test': {'creator': 'user@host.com',\n",
       "     'created_at': '2021-10-13T19:26:35.237000'}},\n",
       "   'tags_global': None,\n",
       "   'tags_system': [],\n",
       "   'tags_user': ['test'],\n",
       "   'created': '2021-10-13 18:09:58.241000'}]}"
      ]
     },
     "execution_count": 12,
     "metadata": {},
     "output_type": "execute_result"
    }
   ],
   "source": [
    "project.artifacts.filter_in(type='domain,certificate').as_dict"
   ]
  },
  {
   "cell_type": "markdown",
   "id": "252cb2e6-d4aa-43f3-bd4b-8d7e9a48053d",
   "metadata": {},
   "source": [
    "-----\n",
    "Each artifact has a set of properties and a few methods to modify the tags or activate monitoring."
   ]
  },
  {
   "cell_type": "code",
   "execution_count": 15,
   "id": "6223de65-6570-4faa-9d76-fc4200f64f78",
   "metadata": {},
   "outputs": [
    {
     "data": {
      "text/plain": [
       "['']"
      ]
     },
     "execution_count": 15,
     "metadata": {},
     "output_type": "execute_result"
    }
   ],
   "source": [
    "art = project.artifacts[0]\n",
    "art.tags_user"
   ]
  },
  {
   "cell_type": "code",
   "execution_count": 14,
   "id": "8cb9e8e1-a537-462d-9e48-11cbd15a00d3",
   "metadata": {},
   "outputs": [
    {
     "data": {
      "text/plain": [
       "True"
      ]
     },
     "execution_count": 14,
     "metadata": {},
     "output_type": "execute_result"
    }
   ],
   "source": [
    "art.update_tags('Test')"
   ]
  },
  {
   "cell_type": "code",
   "execution_count": 38,
   "id": "f74c69a0-4e1e-4dfd-b8a4-22b48c8607b4",
   "metadata": {},
   "outputs": [
    {
     "data": {
      "text/plain": [
       "True"
      ]
     },
     "execution_count": 38,
     "metadata": {},
     "output_type": "execute_result"
    }
   ],
   "source": [
    "art.enable_monitoring()"
   ]
  },
  {
   "cell_type": "markdown",
   "id": "3b83e72b-6371-41e8-99c0-35b257786994",
   "metadata": {},
   "source": [
    "Or, access the `as_dict` or `as_df` property to see all the fields."
   ]
  },
  {
   "cell_type": "code",
   "execution_count": null,
   "id": "6f958013-8992-4fef-9561-859445384553",
   "metadata": {},
   "outputs": [],
   "source": [
    "art.as_dict"
   ]
  },
  {
   "cell_type": "markdown",
   "id": "d24c200f-8d3b-468a-831c-fd3401e570c5",
   "metadata": {},
   "source": [
    "---\n",
    "Hostname and IP `analyzer` objects become artifacts when they are added to a project. \n",
    "\n",
    "The objects may exist as artifacts in multiple projects - you can obtain the list by accesing the `projects` property of a `Hostname` or `IPAddress` object. "
   ]
  },
  {
   "cell_type": "code",
   "execution_count": null,
   "id": "0085e98b-39d9-45cb-96f4-1ff1510c0b32",
   "metadata": {
    "tags": []
   },
   "outputs": [],
   "source": [
    "analyzer.Hostname('riskiq.net').projects.as_df"
   ]
  },
  {
   "cell_type": "markdown",
   "id": "973c6e54-34d1-4ca7-aee1-3a744836320a",
   "metadata": {},
   "source": [
    "Alternatively, access the `artifacts` property to get their representation as an `Artifact` object. This gives you access to all the attributes of an `Artifact` including the `alerts` property, which will contain a list of any monitor results if the object is being monitored."
   ]
  },
  {
   "cell_type": "code",
   "execution_count": null,
   "id": "3dbdf1fa-4016-4ad4-9801-35f202bde99f",
   "metadata": {},
   "outputs": [],
   "source": [
    "analyzer.Hostname('riskiq.net').artifacts.as_df"
   ]
  },
  {
   "cell_type": "markdown",
   "id": "a29ea201-7be6-4d51-b1ba-2fc74378ac6a",
   "metadata": {},
   "source": [
    "### Artifact Monitoring\n",
    "\n",
    "Many artifact types can be \"Monitored\" for changes or new results (the specific behavior depends on the type of artifact). Once monitoring is enabled for an artifact, new alerts will be generated each day and emailed to the artifact owner. The same alerts are available through the API, and are made accessible by the `analyzer` in the `alerts` property of an `Artifact`."
   ]
  },
  {
   "cell_type": "markdown",
   "id": "f558a7c7-0bf4-4bde-9196-6a9db0f90648",
   "metadata": {},
   "source": [
    "Alert queries are date-bounded. When using the `analyzer` to fetch alerts, be sure to set the date range of the `analyzer` module before making your queries. Here, we set our date range to the last 7 days."
   ]
  },
  {
   "cell_type": "code",
   "execution_count": 33,
   "id": "c03184f1-8339-4fa3-894a-9633837f06e0",
   "metadata": {},
   "outputs": [],
   "source": [
    "analyzer.set_date_range(days_back=30)"
   ]
  },
  {
   "cell_type": "markdown",
   "id": "1614ce0f-eefc-4bfe-9d01-92c591b1f2ef",
   "metadata": {},
   "source": [
    "As with all `analyzer` objects, you can access the `as_dict` or `as_df` property of the this object or iterate through it like a list. Either look for a specific artifact in the list, or act programatically on all artifacts with monitoring enabled."
   ]
  },
  {
   "cell_type": "markdown",
   "id": "6b39b747-1393-42de-bcac-dc772643cf47",
   "metadata": {},
   "source": [
    "Next, load a project by GUID or name, then access the list of artifacts on the project."
   ]
  },
  {
   "cell_type": "code",
   "execution_count": 17,
   "id": "10987148-1aed-47bc-9e07-10fad0ea277f",
   "metadata": {
    "tags": []
   },
   "outputs": [
    {
     "data": {
      "text/plain": [
       "<passivetotal.analyzer.projects.ArtifactList at 0x10bf14490>"
      ]
     },
     "execution_count": 17,
     "metadata": {},
     "output_type": "execute_result"
    }
   ],
   "source": [
    "alert_project = analyzer.Project.find('3ee99899-19d4-49a2-b7f7-236002f6a382')\n",
    "alert_project.artifacts"
   ]
  },
  {
   "cell_type": "markdown",
   "id": "6789868c-75c1-437b-a5a4-55ed2f408cce",
   "metadata": {},
   "source": [
    "> This example query finds a project with a specific GUID that you likely do not have access to. Replace the GUID with a GUID or a name of a project you have access to to avoid errors or empy artifact lists."
   ]
  },
  {
   "cell_type": "markdown",
   "id": "2027a55f-e75d-4521-a14a-09c7e917bad7",
   "metadata": {},
   "source": [
    "The `ArtifactsList` object you get back when accessing the `artifacts` property behaves like other `analyzer` record lists. Use the `as_df` or `as_dict` properties to view the list, or iterate through it programmatically as you would any other Python object. Use the `filter` method to consider only artifacts that are currently being monitored."
   ]
  },
  {
   "cell_type": "code",
   "execution_count": 18,
   "id": "bdf39518-1a53-4d58-85a6-9b0a5ffdf9f8",
   "metadata": {},
   "outputs": [
    {
     "name": "stdout",
     "output_type": "stream",
     "text": [
      "artifact: syncun.com has 17 alert(s) available\n"
     ]
    }
   ],
   "source": [
    "for art in alert_project.artifacts.filter(is_monitored=True):\n",
    "    print(f'artifact: {art} has {art.alerts_available} alert(s) available')"
   ]
  },
  {
   "cell_type": "markdown",
   "id": "35b74269-a478-4086-a998-fed5cd9b78a5",
   "metadata": {},
   "source": [
    "> The `alerts_available` property makes a query to the API to retrieve one page of results, and returns the \"totalrecords\" field from that (likely abbreviated) recordlist. It is a convenient way to get the alert count but in some cases may not be optimal, especially if you're expecting results every day, in which case it is likely better to fetch the results directly.\n",
    "\n",
    "\n",
    "To fetch the alerts, focuson a single artifact, either by iterating through the list of artifacts, or by filtering for a specific artifact. Then access the `alerts` property."
   ]
  },
  {
   "cell_type": "code",
   "execution_count": 35,
   "id": "8c0c9fb8-44db-41b7-b94d-c0d2764cc97f",
   "metadata": {},
   "outputs": [
    {
     "data": {
      "text/plain": [
       "<passivetotal.analyzer.projects.ArtifactAlerts at 0x11be65d00>"
      ]
     },
     "execution_count": 35,
     "metadata": {},
     "output_type": "execute_result"
    }
   ],
   "source": [
    "focus_artifact = alert_project.artifacts.filter_substring(name='syncun')[0]\n",
    "alerts = focus_artifact.alerts\n",
    "alerts"
   ]
  },
  {
   "cell_type": "markdown",
   "id": "01b3159b-f569-4438-8626-8eb0b0699ddd",
   "metadata": {},
   "source": [
    "Alerts are returned as a list-like `ArtifactAlerts` object. Use the `as_dict` property of the object to get the list as a dictionary, or iterate through the list directly:"
   ]
  },
  {
   "cell_type": "code",
   "execution_count": 37,
   "id": "f4f14331-68eb-4609-a8e0-469ffeca8614",
   "metadata": {},
   "outputs": [
    {
     "name": "stdout",
     "output_type": "stream",
     "text": [
      "syncun.com change registrarUpdatedAt to 1557971143000 on 2021-10-03 00:00:00\n",
      "syncun.com change contact_country to india on 2021-10-03 00:00:00\n",
      "syncun.com change registrant_organization to conceptualise on 2021-10-03 00:00:00\n",
      "syncun.com change admin_state to haryana on 2021-10-03 00:00:00\n",
      "syncun.com change admin_organization to conceptualise on 2021-10-03 00:00:00\n",
      "syncun.com change registrar_phone to 480-624-2505 on 2021-10-03 00:00:00\n",
      "syncun.com change nameserver to ns141.iabhost.com on 2021-10-03 00:00:00\n",
      "syncun.com change nameserver to ns140.iabhost.com on 2021-10-03 00:00:00\n",
      "syncun.com change new resolution to ns140.iabhost.com. admin.hiisecuredns.com. 2021091504 3600 1800 1209600 86400 on 2021-09-23 00:00:00\n",
      "syncun.com change new resolution to 10 inbound-smtp.us-east-1.amazonaws.com. on 2021-09-22 00:00:00\n"
     ]
    }
   ],
   "source": [
    "for alert in alerts:\n",
    "    print(f'{alert.artifact} change {alert.change} to {alert.result} on {alert.firstseen}')"
   ]
  },
  {
   "cell_type": "markdown",
   "id": "f7625f00-bbef-4de2-8c88-c5a700248f33",
   "metadata": {},
   "source": [
    "## Filter Alerts\n",
    "\n",
    "In these examples, we focused primarily on IPs and hostnames, but the projects feature in RiskIQ PassiveTotal can track more than a dozen different types of artifacts, and many of these can be monitored. \n",
    "\n",
    "One popular artifact type is \"Keyword PDNS\" that enables discovery of newly observed hostnames that contain a brand, phishing lure, or threat actor indicator. Depending on the keyword you choose, the system can generate a signficiant amount of alerts. \n",
    "\n",
    "Data in the PassiveTotal API, combined with capabilities in the `analyzer` module of the `passivetotal` Python library, provide ways to enrich IP and hostname alerts with attributes for filtering and deeper research."
   ]
  },
  {
   "cell_type": "markdown",
   "id": "db6c0e0a-2042-41a5-ac47-2e0790c791db",
   "metadata": {},
   "source": [
    "---\n",
    "First, set a narrow date range at the module level:"
   ]
  },
  {
   "cell_type": "code",
   "execution_count": 22,
   "id": "6864ae65-8855-4947-83d0-124645a87174",
   "metadata": {},
   "outputs": [],
   "source": [
    "analyzer.set_date_range(days_back=1)"
   ]
  },
  {
   "cell_type": "markdown",
   "id": "27383fb4-277d-4883-9d28-4b103244a066",
   "metadata": {},
   "source": [
    "Next, load the project that contains the artifacts you are monitoring. The most direct way is by project GUID which you can obtain from the URL of the project in the PassiveTotal UI, but you can also load a project by name."
   ]
  },
  {
   "cell_type": "code",
   "execution_count": 4,
   "id": "af4a6446-74c6-4819-83c1-4b3f7519e3ce",
   "metadata": {},
   "outputs": [],
   "source": [
    "alert_project = analyzer.Project.find('6a7ea8b1-9582-4343-a364-2822bf764b2d')"
   ]
  },
  {
   "cell_type": "markdown",
   "id": "9406f270-eb14-40c5-abd3-567b12f498f3",
   "metadata": {},
   "source": [
    "> This will likely raise an error if you run it without changing the project GUID, becasue you won't have access to that specific project from your account."
   ]
  },
  {
   "cell_type": "markdown",
   "id": "5fcc0d52-5865-4f61-9a20-5c1c2af40448",
   "metadata": {},
   "source": [
    "Locate the artifact you want to monitor. Here, we list all the artifacts, then filter them by the \"query\" field."
   ]
  },
  {
   "cell_type": "code",
   "execution_count": 5,
   "id": "55100b99-0660-465f-bb8a-7a79886f13b1",
   "metadata": {},
   "outputs": [
    {
     "data": {
      "text/html": [
       "<div>\n",
       "<style scoped>\n",
       "    .dataframe tbody tr th:only-of-type {\n",
       "        vertical-align: middle;\n",
       "    }\n",
       "\n",
       "    .dataframe tbody tr th {\n",
       "        vertical-align: top;\n",
       "    }\n",
       "\n",
       "    .dataframe thead th {\n",
       "        text-align: right;\n",
       "    }\n",
       "</style>\n",
       "<table border=\"1\" class=\"dataframe\">\n",
       "  <thead>\n",
       "    <tr style=\"text-align: right;\">\n",
       "      <th></th>\n",
       "      <th>query</th>\n",
       "      <th>type</th>\n",
       "      <th>project_guid</th>\n",
       "      <th>artifact_guid</th>\n",
       "      <th>is_monitored</th>\n",
       "      <th>is_monitorable</th>\n",
       "      <th>organization</th>\n",
       "      <th>links</th>\n",
       "      <th>owner</th>\n",
       "      <th>name</th>\n",
       "      <th>creator</th>\n",
       "      <th>tags_meta</th>\n",
       "      <th>tags_global</th>\n",
       "      <th>tags_system</th>\n",
       "      <th>tags_user</th>\n",
       "      <th>created</th>\n",
       "    </tr>\n",
       "  </thead>\n",
       "  <tbody>\n",
       "    <tr>\n",
       "      <th>0</th>\n",
       "      <td>verification</td>\n",
       "      <td>pdns_keyword</td>\n",
       "      <td>6a7ea8b1-9582-4343-a364-2822bf764b2d</td>\n",
       "      <td>8f9faca5-5248-431b-99a0-08b3f42f5e43</td>\n",
       "      <td>True</td>\n",
       "      <td>True</td>\n",
       "      <td>riskiq</td>\n",
       "      <td>{'tag': '/v2/artifact/tag?artifact=8f9faca5-52...</td>\n",
       "      <td>riskiq</td>\n",
       "      <td>verification</td>\n",
       "      <td>benjamin.powell@riskiq.net</td>\n",
       "      <td>{}</td>\n",
       "      <td>None</td>\n",
       "      <td>[]</td>\n",
       "      <td>[]</td>\n",
       "      <td>2021-09-23 23:47:05.605</td>\n",
       "    </tr>\n",
       "    <tr>\n",
       "      <th>1</th>\n",
       "      <td>unverified</td>\n",
       "      <td>pdns_keyword</td>\n",
       "      <td>6a7ea8b1-9582-4343-a364-2822bf764b2d</td>\n",
       "      <td>134239cc-ff92-4f58-a089-849509a819ca</td>\n",
       "      <td>True</td>\n",
       "      <td>True</td>\n",
       "      <td>riskiq</td>\n",
       "      <td>{'tag': '/v2/artifact/tag?artifact=134239cc-ff...</td>\n",
       "      <td>riskiq</td>\n",
       "      <td>unverified</td>\n",
       "      <td>benjamin.powell@riskiq.net</td>\n",
       "      <td>{}</td>\n",
       "      <td>None</td>\n",
       "      <td>[]</td>\n",
       "      <td>[]</td>\n",
       "      <td>2021-09-23 23:47:21.511</td>\n",
       "    </tr>\n",
       "    <tr>\n",
       "      <th>2</th>\n",
       "      <td>verified</td>\n",
       "      <td>pdns_keyword</td>\n",
       "      <td>6a7ea8b1-9582-4343-a364-2822bf764b2d</td>\n",
       "      <td>69e2e4fd-76fd-40be-9f8b-7db1d2aaab94</td>\n",
       "      <td>True</td>\n",
       "      <td>True</td>\n",
       "      <td>riskiq</td>\n",
       "      <td>{'tag': '/v2/artifact/tag?artifact=69e2e4fd-76...</td>\n",
       "      <td>riskiq</td>\n",
       "      <td>verified</td>\n",
       "      <td>benjamin.powell@riskiq.net</td>\n",
       "      <td>{}</td>\n",
       "      <td>None</td>\n",
       "      <td>[]</td>\n",
       "      <td>[]</td>\n",
       "      <td>2021-09-23 23:47:37.686</td>\n",
       "    </tr>\n",
       "    <tr>\n",
       "      <th>3</th>\n",
       "      <td>verifiy</td>\n",
       "      <td>pdns_keyword</td>\n",
       "      <td>6a7ea8b1-9582-4343-a364-2822bf764b2d</td>\n",
       "      <td>1c1c79b1-6eb5-43be-87be-b887f8346d53</td>\n",
       "      <td>True</td>\n",
       "      <td>True</td>\n",
       "      <td>riskiq</td>\n",
       "      <td>{'tag': '/v2/artifact/tag?artifact=1c1c79b1-6e...</td>\n",
       "      <td>riskiq</td>\n",
       "      <td>verifiy</td>\n",
       "      <td>benjamin.powell@riskiq.net</td>\n",
       "      <td>{}</td>\n",
       "      <td>None</td>\n",
       "      <td>[]</td>\n",
       "      <td>[]</td>\n",
       "      <td>2021-09-23 23:47:52.453</td>\n",
       "    </tr>\n",
       "    <tr>\n",
       "      <th>4</th>\n",
       "      <td>communication</td>\n",
       "      <td>pdns_keyword</td>\n",
       "      <td>6a7ea8b1-9582-4343-a364-2822bf764b2d</td>\n",
       "      <td>cc22a6aa-f4c3-4385-8e2e-4eef42f0306f</td>\n",
       "      <td>True</td>\n",
       "      <td>True</td>\n",
       "      <td>riskiq</td>\n",
       "      <td>{'tag': '/v2/artifact/tag?artifact=cc22a6aa-f4...</td>\n",
       "      <td>riskiq</td>\n",
       "      <td>communication</td>\n",
       "      <td>benjamin.powell@riskiq.net</td>\n",
       "      <td>{}</td>\n",
       "      <td>None</td>\n",
       "      <td>[]</td>\n",
       "      <td>[]</td>\n",
       "      <td>2021-09-24 16:07:34.749</td>\n",
       "    </tr>\n",
       "    <tr>\n",
       "      <th>5</th>\n",
       "      <td>nerdpol.ovh</td>\n",
       "      <td>pdns_keyword</td>\n",
       "      <td>6a7ea8b1-9582-4343-a364-2822bf764b2d</td>\n",
       "      <td>53d4c82d-c2e0-4da2-999f-51e094186bfd</td>\n",
       "      <td>True</td>\n",
       "      <td>True</td>\n",
       "      <td>riskiq</td>\n",
       "      <td>{'tag': '/v2/artifact/tag?artifact=53d4c82d-c2...</td>\n",
       "      <td>riskiq</td>\n",
       "      <td>nerdpol.ovh</td>\n",
       "      <td>benjamin.powell@riskiq.net</td>\n",
       "      <td>{}</td>\n",
       "      <td>None</td>\n",
       "      <td>[]</td>\n",
       "      <td>[]</td>\n",
       "      <td>2021-09-24 16:08:07.878</td>\n",
       "    </tr>\n",
       "  </tbody>\n",
       "</table>\n",
       "</div>"
      ],
      "text/plain": [
       "           query          type                          project_guid  \\\n",
       "0   verification  pdns_keyword  6a7ea8b1-9582-4343-a364-2822bf764b2d   \n",
       "1     unverified  pdns_keyword  6a7ea8b1-9582-4343-a364-2822bf764b2d   \n",
       "2       verified  pdns_keyword  6a7ea8b1-9582-4343-a364-2822bf764b2d   \n",
       "3        verifiy  pdns_keyword  6a7ea8b1-9582-4343-a364-2822bf764b2d   \n",
       "4  communication  pdns_keyword  6a7ea8b1-9582-4343-a364-2822bf764b2d   \n",
       "5    nerdpol.ovh  pdns_keyword  6a7ea8b1-9582-4343-a364-2822bf764b2d   \n",
       "\n",
       "                          artifact_guid  is_monitored  is_monitorable  \\\n",
       "0  8f9faca5-5248-431b-99a0-08b3f42f5e43          True            True   \n",
       "1  134239cc-ff92-4f58-a089-849509a819ca          True            True   \n",
       "2  69e2e4fd-76fd-40be-9f8b-7db1d2aaab94          True            True   \n",
       "3  1c1c79b1-6eb5-43be-87be-b887f8346d53          True            True   \n",
       "4  cc22a6aa-f4c3-4385-8e2e-4eef42f0306f          True            True   \n",
       "5  53d4c82d-c2e0-4da2-999f-51e094186bfd          True            True   \n",
       "\n",
       "  organization                                              links   owner  \\\n",
       "0       riskiq  {'tag': '/v2/artifact/tag?artifact=8f9faca5-52...  riskiq   \n",
       "1       riskiq  {'tag': '/v2/artifact/tag?artifact=134239cc-ff...  riskiq   \n",
       "2       riskiq  {'tag': '/v2/artifact/tag?artifact=69e2e4fd-76...  riskiq   \n",
       "3       riskiq  {'tag': '/v2/artifact/tag?artifact=1c1c79b1-6e...  riskiq   \n",
       "4       riskiq  {'tag': '/v2/artifact/tag?artifact=cc22a6aa-f4...  riskiq   \n",
       "5       riskiq  {'tag': '/v2/artifact/tag?artifact=53d4c82d-c2...  riskiq   \n",
       "\n",
       "            name                     creator tags_meta tags_global  \\\n",
       "0   verification  benjamin.powell@riskiq.net        {}        None   \n",
       "1     unverified  benjamin.powell@riskiq.net        {}        None   \n",
       "2       verified  benjamin.powell@riskiq.net        {}        None   \n",
       "3        verifiy  benjamin.powell@riskiq.net        {}        None   \n",
       "4  communication  benjamin.powell@riskiq.net        {}        None   \n",
       "5    nerdpol.ovh  benjamin.powell@riskiq.net        {}        None   \n",
       "\n",
       "  tags_system tags_user                 created  \n",
       "0          []        [] 2021-09-23 23:47:05.605  \n",
       "1          []        [] 2021-09-23 23:47:21.511  \n",
       "2          []        [] 2021-09-23 23:47:37.686  \n",
       "3          []        [] 2021-09-23 23:47:52.453  \n",
       "4          []        [] 2021-09-24 16:07:34.749  \n",
       "5          []        [] 2021-09-24 16:08:07.878  "
      ]
     },
     "execution_count": 5,
     "metadata": {},
     "output_type": "execute_result"
    }
   ],
   "source": [
    "alert_project.artifacts.as_df"
   ]
  },
  {
   "cell_type": "code",
   "execution_count": 31,
   "id": "4f9c0f2b-9e0e-484f-ac04-c08c9ed1b26f",
   "metadata": {},
   "outputs": [
    {
     "data": {
      "text/plain": [
       "{'type': 'pdns_keyword',\n",
       " 'project_guid': '6a7ea8b1-9582-4343-a364-2822bf764b2d',\n",
       " 'artifact_guid': '134239cc-ff92-4f58-a089-849509a819ca',\n",
       " 'is_monitored': True,\n",
       " 'is_monitorable': True,\n",
       " 'organization': 'riskiq',\n",
       " 'links': {'tag': '/v2/artifact/tag?artifact=134239cc-ff92-4f58-a089-849509a819ca',\n",
       "  'project': '/v2/project?project=6a7ea8b1-9582-4343-a364-2822bf764b2d',\n",
       "  'self': '/v2/artifact?artifact=134239cc-ff92-4f58-a089-849509a819ca'},\n",
       " 'owner': 'riskiq',\n",
       " 'name': 'unverified',\n",
       " 'creator': 'benjamin.powell@riskiq.net',\n",
       " 'tags_meta': {},\n",
       " 'tags_global': None,\n",
       " 'tags_system': [],\n",
       " 'tags_user': [],\n",
       " 'created': '2021-09-23 23:47:21.511000'}"
      ]
     },
     "execution_count": 31,
     "metadata": {},
     "output_type": "execute_result"
    }
   ],
   "source": [
    "focus_artifact = alert_project.artifacts.filter(query='unverified')[0]\n",
    "focus_artifact.as_dict"
   ]
  },
  {
   "cell_type": "markdown",
   "id": "cb7b65ec-64f7-48be-8b71-d98e11be52d3",
   "metadata": {},
   "source": [
    "> We use the `filter` method of the `artifacts` list to find alerts with a `query` property set to `unverified`. This returns a list, but we are expecting only one match, so we use the `[0]` syntax to select the first item in the list."
   ]
  },
  {
   "cell_type": "markdown",
   "id": "7f678c39-983d-409e-802d-df64bbe0d438",
   "metadata": {},
   "source": [
    "As covered above, you can check the `alerts_available` property to see how many alerts are available, but be mindful this will make a query to the API to obtain the first page of results. If you're planning to work with the results anyway, consider skipping this and going directly at the alerts."
   ]
  },
  {
   "cell_type": "code",
   "execution_count": 32,
   "id": "dd01194a-7e28-43c5-94cd-80fcbdc842b1",
   "metadata": {},
   "outputs": [
    {
     "data": {
      "text/plain": [
       "166"
      ]
     },
     "execution_count": 32,
     "metadata": {},
     "output_type": "execute_result"
    }
   ],
   "source": [
    "focus_artifact.alerts_available"
   ]
  },
  {
   "cell_type": "code",
   "execution_count": 33,
   "id": "8a501e80-62e6-49c0-8834-c2036d8c833d",
   "metadata": {},
   "outputs": [
    {
     "data": {
      "text/html": [
       "<div>\n",
       "<style scoped>\n",
       "    .dataframe tbody tr th:only-of-type {\n",
       "        vertical-align: middle;\n",
       "    }\n",
       "\n",
       "    .dataframe tbody tr th {\n",
       "        vertical-align: top;\n",
       "    }\n",
       "\n",
       "    .dataframe thead th {\n",
       "        text-align: right;\n",
       "    }\n",
       "</style>\n",
       "<table border=\"1\" class=\"dataframe\">\n",
       "  <thead>\n",
       "    <tr style=\"text-align: right;\">\n",
       "      <th></th>\n",
       "      <th>type</th>\n",
       "      <th>change</th>\n",
       "      <th>query</th>\n",
       "      <th>result</th>\n",
       "      <th>firstseen</th>\n",
       "      <th>project_name</th>\n",
       "      <th>project_guid</th>\n",
       "    </tr>\n",
       "  </thead>\n",
       "  <tbody>\n",
       "    <tr>\n",
       "      <th>0</th>\n",
       "      <td>pdns_keyword</td>\n",
       "      <td>keyword_match</td>\n",
       "      <td>unverified</td>\n",
       "      <td>0.r1.unverified-forwarding.projectbaseline.com</td>\n",
       "      <td>2021-10-19</td>\n",
       "      <td>potential phishing domains</td>\n",
       "      <td>6a7ea8b1-9582-4343-a364-2822bf764b2d</td>\n",
       "    </tr>\n",
       "    <tr>\n",
       "      <th>1</th>\n",
       "      <td>pdns_keyword</td>\n",
       "      <td>keyword_match</td>\n",
       "      <td>unverified</td>\n",
       "      <td>100.r1.unverified-forwarding.verily.com</td>\n",
       "      <td>2021-10-19</td>\n",
       "      <td>potential phishing domains</td>\n",
       "      <td>6a7ea8b1-9582-4343-a364-2822bf764b2d</td>\n",
       "    </tr>\n",
       "    <tr>\n",
       "      <th>2</th>\n",
       "      <td>pdns_keyword</td>\n",
       "      <td>keyword_match</td>\n",
       "      <td>unverified</td>\n",
       "      <td>102.r3.unverified-forwarding.projectbaseline.com</td>\n",
       "      <td>2021-10-19</td>\n",
       "      <td>potential phishing domains</td>\n",
       "      <td>6a7ea8b1-9582-4343-a364-2822bf764b2d</td>\n",
       "    </tr>\n",
       "    <tr>\n",
       "      <th>3</th>\n",
       "      <td>pdns_keyword</td>\n",
       "      <td>keyword_match</td>\n",
       "      <td>unverified</td>\n",
       "      <td>102.r3.unverified-forwarding.verily.com</td>\n",
       "      <td>2021-10-19</td>\n",
       "      <td>potential phishing domains</td>\n",
       "      <td>6a7ea8b1-9582-4343-a364-2822bf764b2d</td>\n",
       "    </tr>\n",
       "    <tr>\n",
       "      <th>4</th>\n",
       "      <td>pdns_keyword</td>\n",
       "      <td>keyword_match</td>\n",
       "      <td>unverified</td>\n",
       "      <td>103.r2.unverified-forwarding.spotifyforbrands.com</td>\n",
       "      <td>2021-10-19</td>\n",
       "      <td>potential phishing domains</td>\n",
       "      <td>6a7ea8b1-9582-4343-a364-2822bf764b2d</td>\n",
       "    </tr>\n",
       "    <tr>\n",
       "      <th>...</th>\n",
       "      <td>...</td>\n",
       "      <td>...</td>\n",
       "      <td>...</td>\n",
       "      <td>...</td>\n",
       "      <td>...</td>\n",
       "      <td>...</td>\n",
       "      <td>...</td>\n",
       "    </tr>\n",
       "    <tr>\n",
       "      <th>161</th>\n",
       "      <td>pdns_keyword</td>\n",
       "      <td>keyword_match</td>\n",
       "      <td>unverified</td>\n",
       "      <td>87.r3.unverified-forwarding.spotifyforbrands.com</td>\n",
       "      <td>2021-10-18</td>\n",
       "      <td>potential phishing domains</td>\n",
       "      <td>6a7ea8b1-9582-4343-a364-2822bf764b2d</td>\n",
       "    </tr>\n",
       "    <tr>\n",
       "      <th>162</th>\n",
       "      <td>pdns_keyword</td>\n",
       "      <td>keyword_match</td>\n",
       "      <td>unverified</td>\n",
       "      <td>95.r3.unverified-forwarding.spotifyforbrands.com</td>\n",
       "      <td>2021-10-18</td>\n",
       "      <td>potential phishing domains</td>\n",
       "      <td>6a7ea8b1-9582-4343-a364-2822bf764b2d</td>\n",
       "    </tr>\n",
       "    <tr>\n",
       "      <th>163</th>\n",
       "      <td>pdns_keyword</td>\n",
       "      <td>keyword_match</td>\n",
       "      <td>unverified</td>\n",
       "      <td>attach-an-unverified-funding-source.rechargeap...</td>\n",
       "      <td>2021-10-18</td>\n",
       "      <td>potential phishing domains</td>\n",
       "      <td>6a7ea8b1-9582-4343-a364-2822bf764b2d</td>\n",
       "    </tr>\n",
       "    <tr>\n",
       "      <th>164</th>\n",
       "      <td>pdns_keyword</td>\n",
       "      <td>keyword_match</td>\n",
       "      <td>unverified</td>\n",
       "      <td>attach-an-unverified-funding-source.just-eat.ie</td>\n",
       "      <td>2021-10-18</td>\n",
       "      <td>potential phishing domains</td>\n",
       "      <td>6a7ea8b1-9582-4343-a364-2822bf764b2d</td>\n",
       "    </tr>\n",
       "    <tr>\n",
       "      <th>165</th>\n",
       "      <td>pdns_keyword</td>\n",
       "      <td>keyword_match</td>\n",
       "      <td>unverified</td>\n",
       "      <td>unverified.uservoice.com</td>\n",
       "      <td>2021-10-18</td>\n",
       "      <td>potential phishing domains</td>\n",
       "      <td>6a7ea8b1-9582-4343-a364-2822bf764b2d</td>\n",
       "    </tr>\n",
       "  </tbody>\n",
       "</table>\n",
       "<p>166 rows × 7 columns</p>\n",
       "</div>"
      ],
      "text/plain": [
       "             type         change       query  \\\n",
       "0    pdns_keyword  keyword_match  unverified   \n",
       "1    pdns_keyword  keyword_match  unverified   \n",
       "2    pdns_keyword  keyword_match  unverified   \n",
       "3    pdns_keyword  keyword_match  unverified   \n",
       "4    pdns_keyword  keyword_match  unverified   \n",
       "..            ...            ...         ...   \n",
       "161  pdns_keyword  keyword_match  unverified   \n",
       "162  pdns_keyword  keyword_match  unverified   \n",
       "163  pdns_keyword  keyword_match  unverified   \n",
       "164  pdns_keyword  keyword_match  unverified   \n",
       "165  pdns_keyword  keyword_match  unverified   \n",
       "\n",
       "                                                result  firstseen  \\\n",
       "0       0.r1.unverified-forwarding.projectbaseline.com 2021-10-19   \n",
       "1              100.r1.unverified-forwarding.verily.com 2021-10-19   \n",
       "2     102.r3.unverified-forwarding.projectbaseline.com 2021-10-19   \n",
       "3              102.r3.unverified-forwarding.verily.com 2021-10-19   \n",
       "4    103.r2.unverified-forwarding.spotifyforbrands.com 2021-10-19   \n",
       "..                                                 ...        ...   \n",
       "161   87.r3.unverified-forwarding.spotifyforbrands.com 2021-10-18   \n",
       "162   95.r3.unverified-forwarding.spotifyforbrands.com 2021-10-18   \n",
       "163  attach-an-unverified-funding-source.rechargeap... 2021-10-18   \n",
       "164    attach-an-unverified-funding-source.just-eat.ie 2021-10-18   \n",
       "165                           unverified.uservoice.com 2021-10-18   \n",
       "\n",
       "                   project_name                          project_guid  \n",
       "0    potential phishing domains  6a7ea8b1-9582-4343-a364-2822bf764b2d  \n",
       "1    potential phishing domains  6a7ea8b1-9582-4343-a364-2822bf764b2d  \n",
       "2    potential phishing domains  6a7ea8b1-9582-4343-a364-2822bf764b2d  \n",
       "3    potential phishing domains  6a7ea8b1-9582-4343-a364-2822bf764b2d  \n",
       "4    potential phishing domains  6a7ea8b1-9582-4343-a364-2822bf764b2d  \n",
       "..                          ...                                   ...  \n",
       "161  potential phishing domains  6a7ea8b1-9582-4343-a364-2822bf764b2d  \n",
       "162  potential phishing domains  6a7ea8b1-9582-4343-a364-2822bf764b2d  \n",
       "163  potential phishing domains  6a7ea8b1-9582-4343-a364-2822bf764b2d  \n",
       "164  potential phishing domains  6a7ea8b1-9582-4343-a364-2822bf764b2d  \n",
       "165  potential phishing domains  6a7ea8b1-9582-4343-a364-2822bf764b2d  \n",
       "\n",
       "[166 rows x 7 columns]"
      ]
     },
     "execution_count": 33,
     "metadata": {},
     "output_type": "execute_result"
    }
   ],
   "source": [
    "focus_artifact.alerts.as_df"
   ]
  },
  {
   "cell_type": "markdown",
   "id": "3a74c25e-bbc6-42af-b0bd-3d9bd229e5ab",
   "metadata": {},
   "source": [
    "We used the `as_df` property to see the alerts in a convenient dataframe that works well in a notebook, but it is likely you will setup automated processes to feed these results into downstream systems. Remember the `alerts` property returns a list-like `analyzer` object you can slice, iterate, and filter like other Python lists."
   ]
  },
  {
   "cell_type": "markdown",
   "id": "c132a1aa-1169-42a8-9a98-8f79a3cf07a0",
   "metadata": {},
   "source": [
    "*IMPORTANT*\n",
    "The enrichment code that follows assumes results are from a pdns_keyword type monitor, and that the alert results are hostnames. You will need to make adjustmetns if your project has a different type of alerts."
   ]
  },
  {
   "cell_type": "code",
   "execution_count": 76,
   "id": "309e255f-57cc-4b60-8c62-c5e9e3937b69",
   "metadata": {},
   "outputs": [
    {
     "name": "stdout",
     "output_type": "stream",
     "text": [
      "0.r1.unverified-forwarding.projectbaseline.com Domain Administrator\n",
      "100.r1.unverified-forwarding.verily.com \n",
      "102.r3.unverified-forwarding.projectbaseline.com Domain Administrator\n",
      "102.r3.unverified-forwarding.verily.com \n",
      "103.r2.unverified-forwarding.spotifyforbrands.com \n",
      "109.r4.unverified-forwarding.projectbaseline.com Domain Administrator\n",
      "110.r3.unverified-forwarding.spotifyforbrands.com \n",
      "112.r3.unverified-forwarding.verily.com \n",
      "112.r4.unverified-forwarding.verily.com \n",
      "116.r2.unverified-forwarding.projectbaseline.com Domain Administrator\n"
     ]
    }
   ],
   "source": [
    "for alert in focus_artifact.alerts[0:10]:\n",
    "    if alert.change != 'keyword_match':\n",
    "        continue # because this code assumes alert results are hostnames\n",
    "    alert_host = analyzer.Hostname(alert.result)\n",
    "    print(alert_host, alert_host.whois.registrant_name)"
   ]
  },
  {
   "cell_type": "markdown",
   "id": "17d92cf1-55ee-4610-8427-2040660b5bb6",
   "metadata": {},
   "source": [
    "In this example, since we expect alerts to be hostnames, we can assign the alert result to `analyzer.Hostname` objects and then access properties from other PassiveTotal datasets. \n",
    "\n",
    "A more sophisticated approach may be to iterate through all the alerts and generate a list of Python dictionaries containing both Whois details and Illuminate Reputation Scores for each hostname."
   ]
  },
  {
   "cell_type": "code",
   "execution_count": 71,
   "id": "84379ab2-3d0e-4091-aaad-33bad9fef8d0",
   "metadata": {},
   "outputs": [],
   "source": [
    "alert_records = []\n",
    "for alert in focus_artifact.alerts:\n",
    "    alert_host = analyzer.Hostname(alert.result)\n",
    "    record = {\n",
    "        'host': alert_host,\n",
    "        'whois_registrar': str(alert_host.whois.registrar),\n",
    "        'whois_registrant_org': str(alert_host.whois.registrant_org),\n",
    "        'whois_registrant_name': str(alert_host.whois.registrant_name),\n",
    "        'whois_registrant_email': str(alert_host.whois.registrant_email),\n",
    "        'whois_age': alert_host.whois.age\n",
    "    }\n",
    "    try:\n",
    "        record.update({\n",
    "            'riskiq_score': alert_host.reputation.score,\n",
    "            'riskiq_classification': alert_host.reputation.classification\n",
    "        })\n",
    "    except analyzer.AnalyzerAPIError:\n",
    "        pass\n",
    "    alert_records.append(record)"
   ]
  },
  {
   "cell_type": "markdown",
   "id": "6f11121a-9050-4c3a-b3c4-e1bd4916f2c5",
   "metadata": {},
   "source": [
    "After this code completes, you should have a list of `alert_records` you can feed into downstream systems. Here, we leverage the `pandas` library to createa a `DataFrame`, then view the top 10 results with the highest risk score."
   ]
  },
  {
   "cell_type": "code",
   "execution_count": 73,
   "id": "95d7d298-4c0a-4b84-996b-054c6e1800c8",
   "metadata": {},
   "outputs": [
    {
     "data": {
      "text/html": [
       "<div>\n",
       "<style scoped>\n",
       "    .dataframe tbody tr th:only-of-type {\n",
       "        vertical-align: middle;\n",
       "    }\n",
       "\n",
       "    .dataframe tbody tr th {\n",
       "        vertical-align: top;\n",
       "    }\n",
       "\n",
       "    .dataframe thead th {\n",
       "        text-align: right;\n",
       "    }\n",
       "</style>\n",
       "<table border=\"1\" class=\"dataframe\">\n",
       "  <thead>\n",
       "    <tr style=\"text-align: right;\">\n",
       "      <th></th>\n",
       "      <th>host</th>\n",
       "      <th>whois_registrar</th>\n",
       "      <th>whois_registrant_org</th>\n",
       "      <th>whois_registrant_name</th>\n",
       "      <th>whois_registrant_email</th>\n",
       "      <th>whois_age</th>\n",
       "      <th>riskiq_score</th>\n",
       "      <th>riskiq_classification</th>\n",
       "    </tr>\n",
       "  </thead>\n",
       "  <tbody>\n",
       "    <tr>\n",
       "      <th>127</th>\n",
       "      <td>productreviews-unverifiedattachments.frp.zooma...</td>\n",
       "      <td>Gandi SAS</td>\n",
       "      <td></td>\n",
       "      <td></td>\n",
       "      <td></td>\n",
       "      <td>133</td>\n",
       "      <td>69</td>\n",
       "      <td>SUSPICIOUS</td>\n",
       "    </tr>\n",
       "    <tr>\n",
       "      <th>163</th>\n",
       "      <td>attach-an-unverified-funding-source.rechargeap...</td>\n",
       "      <td>NAMECHEAP INC</td>\n",
       "      <td>Redacted for Privacy Purposes</td>\n",
       "      <td>Redacted for Privacy Purposes</td>\n",
       "      <td>select contact domain holder link at https://w...</td>\n",
       "      <td>2589</td>\n",
       "      <td>1</td>\n",
       "      <td>UNKNOWN</td>\n",
       "    </tr>\n",
       "    <tr>\n",
       "      <th>0</th>\n",
       "      <td>0.r1.unverified-forwarding.projectbaseline.com</td>\n",
       "      <td>MarkMonitor Inc.</td>\n",
       "      <td>DNStination Inc.</td>\n",
       "      <td>Domain Administrator</td>\n",
       "      <td>admin@dnstinations.com</td>\n",
       "      <td>3991</td>\n",
       "      <td>0</td>\n",
       "      <td>UNKNOWN</td>\n",
       "    </tr>\n",
       "    <tr>\n",
       "      <th>1</th>\n",
       "      <td>100.r1.unverified-forwarding.verily.com</td>\n",
       "      <td>MarkMonitor Inc.</td>\n",
       "      <td>Google LLC</td>\n",
       "      <td></td>\n",
       "      <td></td>\n",
       "      <td>7614</td>\n",
       "      <td>0</td>\n",
       "      <td>UNKNOWN</td>\n",
       "    </tr>\n",
       "    <tr>\n",
       "      <th>2</th>\n",
       "      <td>102.r3.unverified-forwarding.projectbaseline.com</td>\n",
       "      <td>MarkMonitor Inc.</td>\n",
       "      <td>DNStination Inc.</td>\n",
       "      <td>Domain Administrator</td>\n",
       "      <td>admin@dnstinations.com</td>\n",
       "      <td>3991</td>\n",
       "      <td>0</td>\n",
       "      <td>UNKNOWN</td>\n",
       "    </tr>\n",
       "    <tr>\n",
       "      <th>3</th>\n",
       "      <td>102.r3.unverified-forwarding.verily.com</td>\n",
       "      <td>MarkMonitor Inc.</td>\n",
       "      <td>Google LLC</td>\n",
       "      <td></td>\n",
       "      <td></td>\n",
       "      <td>7614</td>\n",
       "      <td>0</td>\n",
       "      <td>UNKNOWN</td>\n",
       "    </tr>\n",
       "    <tr>\n",
       "      <th>4</th>\n",
       "      <td>103.r2.unverified-forwarding.spotifyforbrands.com</td>\n",
       "      <td>Ports Group AB</td>\n",
       "      <td>Spotify AB</td>\n",
       "      <td></td>\n",
       "      <td>abuse@portsgroup.se</td>\n",
       "      <td>2693</td>\n",
       "      <td>0</td>\n",
       "      <td>UNKNOWN</td>\n",
       "    </tr>\n",
       "    <tr>\n",
       "      <th>5</th>\n",
       "      <td>109.r4.unverified-forwarding.projectbaseline.com</td>\n",
       "      <td>MarkMonitor Inc.</td>\n",
       "      <td>DNStination Inc.</td>\n",
       "      <td>Domain Administrator</td>\n",
       "      <td>admin@dnstinations.com</td>\n",
       "      <td>3991</td>\n",
       "      <td>0</td>\n",
       "      <td>UNKNOWN</td>\n",
       "    </tr>\n",
       "    <tr>\n",
       "      <th>6</th>\n",
       "      <td>110.r3.unverified-forwarding.spotifyforbrands.com</td>\n",
       "      <td>Ports Group AB</td>\n",
       "      <td>Spotify AB</td>\n",
       "      <td></td>\n",
       "      <td>abuse@portsgroup.se</td>\n",
       "      <td>2693</td>\n",
       "      <td>0</td>\n",
       "      <td>UNKNOWN</td>\n",
       "    </tr>\n",
       "    <tr>\n",
       "      <th>7</th>\n",
       "      <td>112.r3.unverified-forwarding.verily.com</td>\n",
       "      <td>MarkMonitor Inc.</td>\n",
       "      <td>Google LLC</td>\n",
       "      <td></td>\n",
       "      <td></td>\n",
       "      <td>7614</td>\n",
       "      <td>0</td>\n",
       "      <td>UNKNOWN</td>\n",
       "    </tr>\n",
       "  </tbody>\n",
       "</table>\n",
       "</div>"
      ],
      "text/plain": [
       "                                                  host   whois_registrar  \\\n",
       "127  productreviews-unverifiedattachments.frp.zooma...         Gandi SAS   \n",
       "163  attach-an-unverified-funding-source.rechargeap...     NAMECHEAP INC   \n",
       "0       0.r1.unverified-forwarding.projectbaseline.com  MarkMonitor Inc.   \n",
       "1              100.r1.unverified-forwarding.verily.com  MarkMonitor Inc.   \n",
       "2     102.r3.unverified-forwarding.projectbaseline.com  MarkMonitor Inc.   \n",
       "3              102.r3.unverified-forwarding.verily.com  MarkMonitor Inc.   \n",
       "4    103.r2.unverified-forwarding.spotifyforbrands.com    Ports Group AB   \n",
       "5     109.r4.unverified-forwarding.projectbaseline.com  MarkMonitor Inc.   \n",
       "6    110.r3.unverified-forwarding.spotifyforbrands.com    Ports Group AB   \n",
       "7              112.r3.unverified-forwarding.verily.com  MarkMonitor Inc.   \n",
       "\n",
       "              whois_registrant_org          whois_registrant_name  \\\n",
       "127                                                                 \n",
       "163  Redacted for Privacy Purposes  Redacted for Privacy Purposes   \n",
       "0                 DNStination Inc.           Domain Administrator   \n",
       "1                       Google LLC                                  \n",
       "2                 DNStination Inc.           Domain Administrator   \n",
       "3                       Google LLC                                  \n",
       "4                       Spotify AB                                  \n",
       "5                 DNStination Inc.           Domain Administrator   \n",
       "6                       Spotify AB                                  \n",
       "7                       Google LLC                                  \n",
       "\n",
       "                                whois_registrant_email  whois_age  \\\n",
       "127                                                           133   \n",
       "163  select contact domain holder link at https://w...       2589   \n",
       "0                               admin@dnstinations.com       3991   \n",
       "1                                                            7614   \n",
       "2                               admin@dnstinations.com       3991   \n",
       "3                                                            7614   \n",
       "4                                  abuse@portsgroup.se       2693   \n",
       "5                               admin@dnstinations.com       3991   \n",
       "6                                  abuse@portsgroup.se       2693   \n",
       "7                                                            7614   \n",
       "\n",
       "     riskiq_score riskiq_classification  \n",
       "127            69            SUSPICIOUS  \n",
       "163             1               UNKNOWN  \n",
       "0               0               UNKNOWN  \n",
       "1               0               UNKNOWN  \n",
       "2               0               UNKNOWN  \n",
       "3               0               UNKNOWN  \n",
       "4               0               UNKNOWN  \n",
       "5               0               UNKNOWN  \n",
       "6               0               UNKNOWN  \n",
       "7               0               UNKNOWN  "
      ]
     },
     "execution_count": 73,
     "metadata": {},
     "output_type": "execute_result"
    }
   ],
   "source": [
    "alert_df = pd.DataFrame.from_records(alert_records)\n",
    "alert_df.nlargest(10, 'riskiq_score')"
   ]
  },
  {
   "cell_type": "markdown",
   "id": "23a8be7b-e68f-4513-a823-f4c715f96957",
   "metadata": {},
   "source": [
    "`pandas` also provides ways of grouping results in ways that help us spot outliers. For example, we can group by the Whois registrant organization or Whois registrar, both of which may provide ways to filter defensive registrations by legimate companies."
   ]
  },
  {
   "cell_type": "code",
   "execution_count": 70,
   "id": "b8c93bf3-f2ab-422d-a22e-0647492d6436",
   "metadata": {},
   "outputs": [
    {
     "data": {
      "text/plain": [
       "whois_registrant_org\n",
       "                                     3\n",
       "Bitsmedia Pte Ltd                    4\n",
       "DNStination Inc.                    58\n",
       "Domain Protection Services, Inc.     1\n",
       "Google LLC                          43\n",
       "Knock Knock WHOIS Not There, LLC     2\n",
       "Redacted for Privacy Purposes        1\n",
       "Spotify AB                          54\n",
       "dtype: int64"
      ]
     },
     "execution_count": 70,
     "metadata": {},
     "output_type": "execute_result"
    }
   ],
   "source": [
    "alert_df.groupby(by='whois_registrant_org').size()"
   ]
  },
  {
   "cell_type": "code",
   "execution_count": 74,
   "id": "4ecd6f54-6da8-4fa8-8b9f-1a4994f74f55",
   "metadata": {},
   "outputs": [
    {
     "data": {
      "text/plain": [
       "whois_registrar\n",
       "Automattic Inc.                                          2\n",
       "CSC Corporate Domains, Inc [Tag = CSC-CORP-DOMAINS]      1\n",
       "CSC Domains Inc                                          1\n",
       "Gandi SAS                                                1\n",
       "MarkMonitor Inc.                                       101\n",
       "NAMECHEAP INC                                            1\n",
       "Name.com, Inc.                                           1\n",
       "OVH, SAS                                                 4\n",
       "Ports Group AB                                          54\n",
       "dtype: int64"
      ]
     },
     "execution_count": 74,
     "metadata": {},
     "output_type": "execute_result"
    }
   ],
   "source": [
    "alert_df.groupby(by='whois_registrar').size()"
   ]
  }
 ],
 "metadata": {
  "kernelspec": {
   "display_name": "ptlib_dev",
   "language": "python",
   "name": "passivetotal_dev"
  },
  "language_info": {
   "codemirror_mode": {
    "name": "ipython",
    "version": 3
   },
   "file_extension": ".py",
   "mimetype": "text/x-python",
   "name": "python",
   "nbconvert_exporter": "python",
   "pygments_lexer": "ipython3",
   "version": "3.8.2"
  }
 },
 "nbformat": 4,
 "nbformat_minor": 5
}
