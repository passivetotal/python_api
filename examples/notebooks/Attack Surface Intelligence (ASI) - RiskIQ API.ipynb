{
 "cells": [
  {
   "cell_type": "markdown",
   "id": "d19be504-6baf-4e12-9726-7386b8906c5b",
   "metadata": {},
   "source": [
    "# RiskIQ PassiveTotal Python Library"
   ]
  },
  {
   "cell_type": "markdown",
   "id": "875d1455-8044-48f8-882a-c0846e23711a",
   "metadata": {},
   "source": [
    "#### *Illuminate Attack Surface Intelligence (ASI)*"
   ]
  },
  {
   "cell_type": "markdown",
   "id": "5f58e227-2051-45b7-9739-43de8b2aa2b5",
   "metadata": {},
   "source": [
    "## Getting Started"
   ]
  },
  {
   "cell_type": "markdown",
   "id": "f347eda2-d21e-4371-ac96-b59a211b9cd4",
   "metadata": {},
   "source": [
    "This notebook leverages the RiskIQ Illuminate / PassiveTotal API through the `passivetotal` Python library. \n",
    "\n",
    "Documentation for the library, including how to install it and configure API keys, are available here:\n",
    "https://passivetotal.readthedocs.io/en/latest/getting-started.html\n",
    "\n",
    "You will need API credentials to authenticate with the API server that provide access to the datasets queried in this notebook. Ask your RiskIQ contact for details or visit https://info.riskiq.net/ to contact the support team."
   ]
  },
  {
   "cell_type": "markdown",
   "id": "f9640d09-3008-4328-9ab8-5320c9e3abeb",
   "metadata": {},
   "source": [
    "### Optional Dependencies\n",
    "\n",
    "This notebook uses the `pandas` Python library primarily to improve the visual output of data tables retrieved from the API. You will need to install that library in your Python (virtual) environment (`pip install pandas`) or change the code examples to return a Python dictionary instead of a dataframe. Simply change `.as_df` to `.as_dict`.\n",
    "\n",
    "Note that some examples may use special features in `pandas` to filter or aggregate data, but these can also be implemented in pure Python."
   ]
  },
  {
   "cell_type": "markdown",
   "id": "a8abf502-701e-4bba-98fd-b874662e5a55",
   "metadata": {},
   "source": [
    "### Product Context\n",
    "\n",
    "https://www.riskiq.com/solutions/attack-surface-intelligence/"
   ]
  },
  {
   "cell_type": "markdown",
   "id": "615231b1-6a0c-4e27-9c02-2e6d44b0ea2d",
   "metadata": {},
   "source": [
    "### Setup Notebook\n",
    "*If this returns errors, ensure you have followed the Getting Started document linked above to install necessary dependencies and configure your API keys.*"
   ]
  },
  {
   "cell_type": "code",
   "execution_count": 15,
   "id": "9ac4f5fa-d2e1-4f7a-b212-ade74eaa2c04",
   "metadata": {},
   "outputs": [],
   "source": [
    "from passivetotal import analyzer\n",
    "analyzer.init()"
   ]
  },
  {
   "cell_type": "markdown",
   "id": "9dcadca5-9476-41c2-882a-ddf4ceba7b77",
   "metadata": {},
   "source": [
    "## Attack Surface Intelligence"
   ]
  },
  {
   "cell_type": "markdown",
   "id": "ea95a33f-b343-42a9-97d3-08715f5eb9c2",
   "metadata": {},
   "source": [
    "### Your Attack Surface"
   ]
  },
  {
   "cell_type": "markdown",
   "id": "answering-pipeline",
   "metadata": {},
   "source": [
    "Define a variable to store your organization's attack surface"
   ]
  },
  {
   "cell_type": "code",
   "execution_count": null,
   "id": "483b4055-2172-45fe-a225-6234fd2b1c12",
   "metadata": {},
   "outputs": [],
   "source": [
    "my_asi = analyzer.illuminate.AttackSurface.load()\n",
    "my_asi"
   ]
  },
  {
   "cell_type": "markdown",
   "id": "e672583e-0d9e-4201-b7f0-cdd3bc49ca05",
   "metadata": {},
   "source": [
    "The `my_asi` variable here now stores an instance of `AttackSurface` object. To learn what you can do with this object, place your cursor after the variable name, add a dot (.), and press the (tab) key. You'll see a menu of options. \n",
    "\n",
    "The complete list of properties is available in the [reference docs](\n",
    "https://passivetotal.readthedocs.io/en/latest/illuminate.html#passivetotal.analyzer.illuminate.AttackSurface)."
   ]
  },
  {
   "cell_type": "markdown",
   "id": "controlling-tyler",
   "metadata": {},
   "source": [
    "---\n",
    "RiskIQ assesses your Attack Surface by analyzing a set of insights and testing whether the discovered assets in your Attack Surface are impacted by each insight. These impacted assets are listed as observations, and are grouped into three levels: high, medium, and low.\n",
    "\n",
    "To obtain the list of impacted assets, first enumerate the insights, either by a specific priority or across all priority levels. The most direct route is the `all_active_insights` property."
   ]
  },
  {
   "cell_type": "code",
   "execution_count": null,
   "id": "8578db6f-d959-4e80-b7ec-65ca41bca162",
   "metadata": {
    "tags": []
   },
   "outputs": [],
   "source": [
    "my_asi.all_active_insights.as_dict"
   ]
  },
  {
   "cell_type": "markdown",
   "id": "c9222dc9-f4ed-4aef-8d24-0ca93643e421",
   "metadata": {},
   "source": [
    "> This property is filtered to only the insights with observations, but the API provides all insights, even those without observations. To see them, use the `all_insights` property instead."
   ]
  },
  {
   "cell_type": "markdown",
   "id": "3f95e252-c309-432d-b552-9f2fb95f1260",
   "metadata": {},
   "source": [
    "The `all_active_insights` property returns an object of type `AttackSurfaceInsights`. Complete details on the capability of this object are available [in the reference docs](https://passivetotal.readthedocs.io/en/latest/illuminate.html#passivetotal.analyzer.illuminate.AttackSurfaceInsights) and follow the same list of options available for most list-like Analyzer objects. \n",
    "\n",
    "To get started, loop through the `all_active_insights` property as if it was Python list. "
   ]
  },
  {
   "cell_type": "code",
   "execution_count": null,
   "id": "compound-boating",
   "metadata": {},
   "outputs": [],
   "source": [
    "for insight in my_asi.all_active_insights:\n",
    "    print(insight)"
   ]
  },
  {
   "cell_type": "markdown",
   "id": "unknown-collaboration",
   "metadata": {},
   "source": [
    "The `all_active_insights` property returns an object of type `AttackSurfaceInsight` which can be printed like a string, but also offers additional properties. Use tab-completion here in Jupyter on one insight or consult [the docs](https://passivetotal.readthedocs.io/en/latest/illuminate.html#passivetotal.analyzer.illuminate.AttackSurfaceInsight).\n",
    "\n",
    "For example, we can sort the high-priority insights by reverse order of observations, select the first insight in the list, and look at the observations for that insight."
   ]
  },
  {
   "cell_type": "code",
   "execution_count": null,
   "id": "e733df5c-42e8-4c73-9844-0cbb418694a3",
   "metadata": {},
   "outputs": [],
   "source": [
    "my_asi.high_priority_insights.sorted_by('observation_count', True)[0].observations"
   ]
  },
  {
   "cell_type": "markdown",
   "id": "4d728531-0674-48df-9a4e-dfad9af0f4cf",
   "metadata": {},
   "source": [
    "Observations are of type `AttackSurfaceObservations` which is also list-like in it's behavior. Complete details are in the [reference docs](https://passivetotal.readthedocs.io/en/latest/illuminate.html#passivetotal.analyzer.illuminate.AttackSurfaceObservations) but again, the easiest way to start is to simply iterate the list."
   ]
  },
  {
   "cell_type": "code",
   "execution_count": null,
   "id": "f52775e9-b4d2-4bba-ad15-b02a175e7808",
   "metadata": {},
   "outputs": [],
   "source": [
    "for obs in my_asi.high_priority_insights.sorted_by('observation_count', True)[0].observations:\n",
    "    print(obs)"
   ]
  },
  {
   "cell_type": "markdown",
   "id": "92d7de53-80f0-4755-bed6-070c0edf5681",
   "metadata": {},
   "source": [
    "Each observation is of type `AttackSurfaceObservation` and when printed simply shows the asset name, although many more details are available in [other properties](https://passivetotal.readthedocs.io/en/latest/illuminate.html#passivetotal.analyzer.illuminate.AttackSurfaceObservation) including the dates when the observation was last seen."
   ]
  },
  {
   "cell_type": "markdown",
   "id": "7ebabc93-3e2c-4c28-a4df-16f11c2bff51",
   "metadata": {},
   "source": [
    "---\n",
    "Consider using pandas DataFrames if you are working with ASI interactively in a notebook. Virtually every object offers an `as_df` property which is especially useful for lists."
   ]
  },
  {
   "cell_type": "code",
   "execution_count": null,
   "id": "32bc23fd-0b2c-46e2-af96-76b2827ab172",
   "metadata": {
    "tags": []
   },
   "outputs": [],
   "source": [
    "my_asi.high_priority_insights.as_df"
   ]
  },
  {
   "cell_type": "code",
   "execution_count": null,
   "id": "4290fb9e-d75f-48ea-ac49-2c8a310bf3b3",
   "metadata": {
    "tags": []
   },
   "outputs": [],
   "source": [
    "my_asi.high_priority_insights.only_active_insights[0].observations.as_df"
   ]
  },
  {
   "cell_type": "markdown",
   "id": "ead2a49a-4e5b-46b0-9c7b-a8eceaf0ffae",
   "metadata": {},
   "source": [
    "> Notice the use of `only_active_insights` here to filter the list of insights to only those with observations. If you skip this step you may get an API error when you query for observations if none are available for that insight."
   ]
  },
  {
   "cell_type": "markdown",
   "id": "6d654480-7dce-402d-b07c-675736718052",
   "metadata": {},
   "source": [
    "### Third-Party (Vendor) Attack Surfaces"
   ]
  },
  {
   "cell_type": "markdown",
   "id": "light-microphone",
   "metadata": {},
   "source": [
    "Define a variable to store all third-party attack surfaces and load them from the API."
   ]
  },
  {
   "cell_type": "code",
   "execution_count": null,
   "id": "4829d40f-26b7-4341-9ec7-cdc1d5075fa4",
   "metadata": {
    "tags": []
   },
   "outputs": [],
   "source": [
    "vendor_asi = analyzer.illuminate.AttackSurfaces.load()\n",
    "vendor_asi"
   ]
  },
  {
   "cell_type": "markdown",
   "id": "0db89ca3-b0ef-4c3f-bdd9-75dff91b8ad2",
   "metadata": {},
   "source": [
    "> The list of third-party vendors is defined in your account settings in consultation with your RiskIQ account team. There are no options to change the composition of the list in the API."
   ]
  },
  {
   "cell_type": "markdown",
   "id": "perceived-mumbai",
   "metadata": {},
   "source": [
    "The object returned is of type `AttackSurfaces` - this can be treated as a list, filtered, or displayed in several ways. Full details are in the [reference docs](\n",
    "https://passivetotal.readthedocs.io/en/latest/illuminate.html#passivetotal.analyzer.illuminate.AttackSurfaces).\n",
    "\n",
    "If you have a very large list of third-party vendors, the API will return the data one page at a time, but that will be handled automatically by the Python library.\n",
    "\n",
    "This will return a list of third-party vendors (associated with Third-Party Intelligence module) and other third-party metadata (attack surface id, name of the vendor, if the name of the organization is your own, if the attack surface is a third-party vendor, number of active high priority, medium priority, and low priority assets linked to insight detected observations. "
   ]
  },
  {
   "cell_type": "code",
   "execution_count": null,
   "id": "250b0676-8c24-4091-8adc-c3f529afd6f8",
   "metadata": {
    "tags": []
   },
   "outputs": [],
   "source": [
    "vendor_asi.as_df"
   ]
  },
  {
   "cell_type": "markdown",
   "id": "pressed-tablet",
   "metadata": {},
   "source": [
    "---\n",
    "There are several ways to filter this list to focus on a specific vendor, especially once you determine the asi_id that RiskIQ applies to it. Here, we use features from the `pandas` data library to filter the pandas DataFrame to include only those records with a name that matches a specific vendor. Note this search is case-sensistive."
   ]
  },
  {
   "cell_type": "code",
   "execution_count": null,
   "id": "4c325c9b-4515-432d-8c6c-bc91f2404f40",
   "metadata": {},
   "outputs": [],
   "source": [
    "vendor_asi.as_df[vendor_asi.as_df['name'].str.contains('Rhythmic')]"
   ]
  },
  {
   "cell_type": "markdown",
   "id": "stuck-training",
   "metadata": {},
   "source": [
    "Once we know the vendor's Attack Surfce ID we can load it by number."
   ]
  },
  {
   "cell_type": "code",
   "execution_count": 12,
   "id": "16dd8b4c-03f0-4ca7-a155-062a9b801d78",
   "metadata": {
    "tags": []
   },
   "outputs": [],
   "source": [
    "rhythmic_asi = analyzer.illuminate.AttackSurface.load(553865)"
   ]
  },
  {
   "cell_type": "markdown",
   "id": "stylish-foster",
   "metadata": {},
   "source": [
    "This object behaves the same as the attack surface we retrieved for our own attack surface earlier in this notebook."
   ]
  },
  {
   "cell_type": "code",
   "execution_count": null,
   "id": "91cc74e0-614e-48e7-bd28-1ff9d69bf797",
   "metadata": {},
   "outputs": [],
   "source": [
    "rhythmic_asi.as_df.T"
   ]
  },
  {
   "cell_type": "markdown",
   "id": "b8f98b6c-a6ce-467d-b4b3-ded75a8b412a",
   "metadata": {},
   "source": [
    "> The `T` property of pandas dataframes rotates the table 90 degrees which improves formatting when you only have one row of data."
   ]
  },
  {
   "cell_type": "markdown",
   "id": "political-liabilities",
   "metadata": {},
   "source": [
    "We can return all active insights with the `all_active_insights` property."
   ]
  },
  {
   "cell_type": "code",
   "execution_count": null,
   "id": "510aaf20-3c1d-4f28-b1bc-065d452db1ba",
   "metadata": {},
   "outputs": [],
   "source": [
    "rhythmic_asi.all_active_insights.as_df"
   ]
  },
  {
   "cell_type": "markdown",
   "id": "presidential-problem",
   "metadata": {},
   "source": [
    "Insights can be treated like strings to make printing them easier, but remember there are more fields available on each insight."
   ]
  },
  {
   "cell_type": "code",
   "execution_count": null,
   "id": "middle-cigarette",
   "metadata": {},
   "outputs": [],
   "source": [
    "for insight in rhythmic_asi.all_active_insights:\n",
    "    print(insight)"
   ]
  },
  {
   "cell_type": "markdown",
   "id": "addressed-lodging",
   "metadata": {},
   "source": [
    "---\n",
    "Using simple string matching, we can search a vendor's attack surface for a specific insight."
   ]
  },
  {
   "cell_type": "code",
   "execution_count": null,
   "id": "clinical-calcium",
   "metadata": {},
   "outputs": [],
   "source": [
    "for insight in rhythmic_asi.all_active_insights:\n",
    "    if insight.name == 'ASI: REvil Ransomware Actors Exploit Kaseya VSA Software in Broad Supply Chain Attack':\n",
    "        for obs in insight.observations:\n",
    "            print (obs)"
   ]
  },
  {
   "cell_type": "markdown",
   "id": "corporate-matthew",
   "metadata": {},
   "source": [
    "The `all_active_insights` property of an `AttackSurface` object offers a number of filtering options, including `filter_substring` that performs a case-insensitive match on any string field in the objects in that list. This is a property available on most `RecordList` type objects in the Analyzer."
   ]
  },
  {
   "cell_type": "code",
   "execution_count": null,
   "id": "92fdb11e-4c73-43b7-88a4-5272bbccbadb",
   "metadata": {},
   "outputs": [],
   "source": [
    "for insight in rhythmic_asi.all_active_insights.filter_substring(name='kaseya'):\n",
    "    for obs in insight.observations:\n",
    "        print(obs)"
   ]
  },
  {
   "cell_type": "markdown",
   "id": "standard-lingerie",
   "metadata": {},
   "source": [
    "We can apply the same technique to search across all vendor attack surfaces. Here, we iterate (loop through) the `vendor_asi` variable we stored earlier that contains all third-party attack surfces, and then store the length of the insight list that matches our keyword. "
   ]
  },
  {
   "cell_type": "code",
   "execution_count": null,
   "id": "partial-measurement",
   "metadata": {
    "tags": []
   },
   "outputs": [],
   "source": [
    "for vendor in vendor_asi:\n",
    "    kaseya_insights = len(vendor.all_active_insights.filter_substring(name='kaseya'))\n",
    "    print(vendor.name, kaseya_insights) "
   ]
  }
 ],
 "metadata": {
  "kernelspec": {
   "display_name": "ptlib_dev",
   "language": "python",
   "name": "passivetotal_dev"
  },
  "language_info": {
   "codemirror_mode": {
    "name": "ipython",
    "version": 3
   },
   "file_extension": ".py",
   "mimetype": "text/x-python",
   "name": "python",
   "nbconvert_exporter": "python",
   "pygments_lexer": "ipython3",
   "version": "3.8.2"
  }
 },
 "nbformat": 4,
 "nbformat_minor": 5
}
